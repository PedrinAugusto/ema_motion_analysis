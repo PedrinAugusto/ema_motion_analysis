{
 "cells": [
  {
   "cell_type": "markdown",
   "metadata": {
    "deletable": false,
    "editable": false,
    "run_control": {
     "frozen": true
    }
   },
   "source": [
    "# Kalman Filter with Kinematic Chain"
   ]
  },
  {
   "cell_type": "markdown",
   "metadata": {
    "deletable": false,
    "editable": false,
    "run_control": {
     "frozen": true
    }
   },
   "source": [
    "- Review and implementation of the work proposed by Steinberg 2016 [[1]](files/Steinbring2016.pdf) and Steinberg 2015 [[2]](files/1511.04278.pdf)."
   ]
  },
  {
   "cell_type": "markdown",
   "metadata": {
    "deletable": false,
    "editable": false,
    "heading_collapsed": true,
    "run_control": {
     "frozen": true
    }
   },
   "source": [
    "## Goal"
   ]
  },
  {
   "cell_type": "markdown",
   "metadata": {
    "hidden": true
   },
   "source": [
    "- Real-time whole-body human motion tracking using unlabeled markers."
   ]
  },
  {
   "cell_type": "markdown",
   "metadata": {
    "hidden": true
   },
   "source": [
    "![image](files/goal.png)"
   ]
  },
  {
   "cell_type": "markdown",
   "metadata": {},
   "source": [
    "## Problems"
   ]
  },
  {
   "cell_type": "markdown",
   "metadata": {
    "deletable": false,
    "editable": false,
    "run_control": {
     "frozen": true
    }
   },
   "source": [
    "- Applying kinematic constraints to the kalman filter\n",
    "- Labeling markers (not necessary for the our project)\n",
    "- 3D points measurements"
   ]
  },
  {
   "cell_type": "markdown",
   "metadata": {
    "deletable": false,
    "editable": false,
    "run_control": {
     "frozen": true
    }
   },
   "source": [
    "## Tools"
   ]
  },
  {
   "cell_type": "markdown",
   "metadata": {
    "deletable": false,
    "editable": false,
    "run_control": {
     "frozen": true
    }
   },
   "source": [
    "- Master Motor Map Framework (MMM) [[3]](files/terlemez2014.pdf)\n",
    "- Smart Sampling Kalman Filter [[4]](files/JAIF16_Steinbring.pdf)\n",
    "- Vicon (100Hz sample rate)"
   ]
  },
  {
   "cell_type": "markdown",
   "metadata": {
    "deletable": false,
    "editable": false,
    "run_control": {
     "frozen": true
    }
   },
   "source": [
    "###  Master Motor Map Framework (MMM)"
   ]
  },
  {
   "cell_type": "markdown",
   "metadata": {
    "ExecuteTime": {
     "end_time": "2019-08-01T00:26:46.282045Z",
     "start_time": "2019-08-01T00:26:46.272974Z"
    },
    "deletable": false,
    "editable": false,
    "run_control": {
     "frozen": true
    }
   },
   "source": [
    "Joints Model      |  Joints Constraints\n",
    ":-------------------------:|:-------------------------:\n",
    "![image](files/mmm_body.png)|  ![image](files/mmm_table.png)"
   ]
  },
  {
   "cell_type": "markdown",
   "metadata": {
    "deletable": false,
    "editable": false,
    "run_control": {
     "frozen": true
    }
   },
   "source": [
    "- Gitlab: [here](https://gitlab.com/mastermotormap)\n",
    "- Documentation: [here](https://mmm.humanoids.kit.edu/)\n",
    "- Installation: [here](https://mmm.humanoids.kit.edu/installation.html)"
   ]
  },
  {
   "cell_type": "markdown",
   "metadata": {},
   "source": [
    "### Smart Sampling Kalman Filter"
   ]
  },
  {
   "cell_type": "markdown",
   "metadata": {
    "deletable": false,
    "editable": false,
    "run_control": {
     "frozen": true
    }
   },
   "source": [
    "### Model Characteristics"
   ]
  },
  {
   "cell_type": "markdown",
   "metadata": {},
   "source": [
    "- **Foward kinematics:**\n",
    "\n",
    "$$p_k^{(n)} = h^{(n)}(r_k,o_k,\\theta _k), \\forall n \\in \\{1, \\dots, N\\}$$\n",
    "\n",
    "$p_k^{(n)}$: position of the n-th marker in Cartesian world coordinates\n",
    "\n",
    "$r_k$: root pose with its position $[r_k^x, r_k^y, r_k^z]^T$\n",
    "\n",
    "$o_k$: root orientation with angles $[o_k^r, o_k^p, o_k^y]^T$, with $r, p, y$ being the raw pitch and yaw respectively\n",
    "\n",
    "$\\theta_k = [\\theta_k^{(1)}, \\dots, \\theta_k^{(J)}]^T$\n",
    "\n",
    "$h^{(n)}(r_k,o_k,\\theta _k)$: foward kinematic funtion\n",
    "\n",
    "$N$: number of marker, i.e. joints"
   ]
  },
  {
   "cell_type": "markdown",
   "metadata": {},
   "source": [
    "- **Joint Angle Bound Constraints**\n",
    "\n",
    "$$\\theta_k^{(j)} = g_j(\\Theta_k^{(j)}) = \\frac{u_j - l_j}{2} \\sin \\left(\\Theta_k^{(j)}\\right) + \\frac{l_j - u_j}{2}$$\n",
    "\n",
    "$\\theta_k^{(j)}$: bounded angle\n",
    "\n",
    "$\\Theta_k^{(j)}$: unbounded angle\n",
    "\n",
    "$u_j$: upper limit from the MMM model\n",
    "\n",
    "$l_j$: lower limit from the MMM model"
   ]
  },
  {
   "cell_type": "markdown",
   "metadata": {
    "deletable": false,
    "editable": false,
    "run_control": {
     "frozen": true
    }
   },
   "source": [
    "## Ideas"
   ]
  },
  {
   "cell_type": "markdown",
   "metadata": {},
   "source": [
    "- Use pose initialization to get bone lenght parameters\n",
    "- Transform 2D point to 3D by fixating z axis (for the lower body joints and the shoulder)\n",
    "- Try to calculate the 3D point of the elbow and wrist based on the 2D pose"
   ]
  },
  {
   "cell_type": "code",
   "execution_count": null,
   "metadata": {},
   "outputs": [],
   "source": []
  }
 ],
 "metadata": {
  "kernelspec": {
   "display_name": "Python 3",
   "language": "python",
   "name": "python3"
  },
  "language_info": {
   "codemirror_mode": {
    "name": "ipython",
    "version": 3
   },
   "file_extension": ".py",
   "mimetype": "text/x-python",
   "name": "python",
   "nbconvert_exporter": "python",
   "pygments_lexer": "ipython3",
   "version": "3.6.7"
  },
  "latex_envs": {
   "LaTeX_envs_menu_present": true,
   "autoclose": false,
   "autocomplete": true,
   "bibliofile": "biblio.bib",
   "cite_by": "apalike",
   "current_citInitial": 1,
   "eqLabelWithNumbers": true,
   "eqNumInitial": 1,
   "hotkeys": {
    "equation": "Ctrl-E",
    "itemize": "Ctrl-I"
   },
   "labels_anchors": false,
   "latex_user_defs": false,
   "report_style_numbering": false,
   "user_envs_cfg": false
  },
  "toc": {
   "base_numbering": 1,
   "nav_menu": {},
   "number_sections": true,
   "sideBar": true,
   "skip_h1_title": false,
   "title_cell": "Table of Contents",
   "title_sidebar": "Contents",
   "toc_cell": false,
   "toc_position": {},
   "toc_section_display": true,
   "toc_window_display": false
  },
  "varInspector": {
   "cols": {
    "lenName": 16,
    "lenType": 16,
    "lenVar": 40
   },
   "kernels_config": {
    "python": {
     "delete_cmd_postfix": "",
     "delete_cmd_prefix": "del ",
     "library": "var_list.py",
     "varRefreshCmd": "print(var_dic_list())"
    },
    "r": {
     "delete_cmd_postfix": ") ",
     "delete_cmd_prefix": "rm(",
     "library": "var_list.r",
     "varRefreshCmd": "cat(var_dic_list()) "
    }
   },
   "types_to_exclude": [
    "module",
    "function",
    "builtin_function_or_method",
    "instance",
    "_Feature"
   ],
   "window_display": false
  }
 },
 "nbformat": 4,
 "nbformat_minor": 2
}
