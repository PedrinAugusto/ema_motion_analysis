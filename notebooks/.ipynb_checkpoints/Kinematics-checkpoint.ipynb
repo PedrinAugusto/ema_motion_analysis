{
 "cells": [
  {
   "cell_type": "code",
   "execution_count": 3,
   "metadata": {
    "ExecuteTime": {
     "end_time": "2019-08-23T00:53:54.114107Z",
     "start_time": "2019-08-23T00:53:53.718431Z"
    }
   },
   "outputs": [],
   "source": [
    "import cv2\n",
    "import numpy\n",
    "import matplotlib.pyplot as plt\n",
    "import math"
   ]
  },
  {
   "cell_type": "code",
   "execution_count": 4,
   "metadata": {
    "ExecuteTime": {
     "end_time": "2019-08-23T00:53:54.288554Z",
     "start_time": "2019-08-23T00:53:54.226187Z"
    }
   },
   "outputs": [],
   "source": [
    "def showFrame(frame):\n",
    "    plt.figure(figsize=[9,6])\n",
    "    plt.imshow(frame[:,:,[2,1,0]])\n",
    "    plt.axis(\"off\")\n",
    "    plt.show()\n",
    "\n",
    "def drawCircle(img, coord):\n",
    "    cv2.circle(img, coord, 5, (0,0,1), -1)\n",
    "    return img\n",
    "\n",
    "def drawLine(img, A, B):\n",
    "    cv2.line(img, A, B, (0,0,0),2)\n",
    "    return img\n",
    "\n",
    "def getAngle(A, B, O):\n",
    "    x1, y1, x2, y2 = A[0], A[1], B[0], B[1]\n",
    "    angle = int(math.atan((y1-y2)/(x2-x1))*180/math.pi)\n",
    "    return angle\n",
    "\n",
    "def getAngle(A, B, O):\n",
    "    if O in (A, B):\n",
    "        raise ValueError(\"Undefined angle, two identical points\", (A, O, B))\n",
    "    ang = math.degrees(math.atan2(B[1]-O[1], B[0]-O[0]) - math.atan2(A[1]-O[1], A[0]-O[0]))\n",
    "    if ang < 0:\n",
    "        ang += 360\n",
    "    if ang > 180:\n",
    "        ang = 360 - ang\n",
    "    return ang\n",
    "\n",
    "def drawAngle(img, O, angle):\n",
    "    font = cv2.FONT_HERSHEY_SIMPLEX\n",
    "    cv2.circle(img, O, 10, (1,0.8,0.8), -1)\n",
    "    cv2.putText(img,str(int(angle)),(O[0]-5,O[1]-5), font, 1,(1,0,0),2,cv2.LINE_AA)\n",
    "    return img"
   ]
  },
  {
   "cell_type": "code",
   "execution_count": 5,
   "metadata": {
    "ExecuteTime": {
     "end_time": "2019-08-23T00:53:55.659324Z",
     "start_time": "2019-08-23T00:53:55.604464Z"
    }
   },
   "outputs": [],
   "source": [
    "frame = np.ones([480,640,3])\n",
    "A = (200,200)\n",
    "B = (400,400)\n",
    "O = (280, 400)\n",
    "frame = drawLine(frame, A, O)\n",
    "frame = drawLine(frame, O, B)\n",
    "frame = drawCircle(frame, A)\n",
    "frame = drawCircle(frame, B)\n",
    "frame = drawCircle(frame, O)\n",
    "angle = getAngle(A, B, O)\n",
    "frame = drawAngle(frame, O, angle)"
   ]
  },
  {
   "cell_type": "code",
   "execution_count": 6,
   "metadata": {
    "ExecuteTime": {
     "end_time": "2019-08-23T00:53:58.376836Z",
     "start_time": "2019-08-23T00:53:58.191319Z"
    }
   },
   "outputs": [
    {
     "data": {
      "image/png": "[encoded data removed]",
      "text/plain": [
       "<Figure size 648x432 with 1 Axes>"
      ]
     },
     "metadata": {
      "needs_background": "light"
     },
     "output_type": "display_data"
    }
   ],
   "source": [
    "showFrame(frame)"
   ]
  },
  {
   "cell_type": "code",
   "execution_count": 16,
   "metadata": {
    "ExecuteTime": {
     "end_time": "2019-08-23T01:16:21.277743Z",
     "start_time": "2019-08-23T01:16:21.270961Z"
    }
   },
   "outputs": [],
   "source": [
    "def getPixel(coord_xy, f_height, mmppx=1, mmppy=1):\n",
    "    j = int(coord_xy[0]/mmppx)\n",
    "    i = int(f_height - (coord_xy[1]/mmppy))\n",
    "    return (j, i)\n",
    "\n",
    "def getCoord(pixel_ji, f_height, mmppx=1, mmppy=1):\n",
    "    x = pixel_ji[0]*mmppx\n",
    "    y = (f_height - pixel_ji[1])*mmppy\n",
    "    return (x, y)"
   ]
  },
  {
   "cell_type": "code",
   "execution_count": 17,
   "metadata": {
    "ExecuteTime": {
     "end_time": "2019-08-23T01:16:21.855032Z",
     "start_time": "2019-08-23T01:16:21.840594Z"
    }
   },
   "outputs": [],
   "source": [
    "f_height = 480\n",
    "f_width = 640\n",
    "mmppx = 2\n",
    "mmppy = 2\n",
    "frame = np.ones([f_height,f_width,3])\n",
    "Ac = (30,40)\n",
    "Bc = (20,10)\n",
    "Oc = (15,30)\n",
    "A = getPixel(Ac, f_height, mmppx, mmppy)\n",
    "B = getPixel(Bc, f_height, mmppx, mmppy)\n",
    "O = getPixel(Oc, f_height, mmppx, mmppy)\n",
    "frame = drawLine(frame, A, O)\n",
    "frame = drawLine(frame, O, B)\n",
    "frame = drawCircle(frame, A)\n",
    "frame = drawCircle(frame, B)\n",
    "frame = drawCircle(frame, O)\n",
    "angle = getAngle(A, B, O)\n",
    "frame = drawAngle(frame, O, angle)"
   ]
  },
  {
   "cell_type": "code",
   "execution_count": 18,
   "metadata": {
    "ExecuteTime": {
     "end_time": "2019-08-23T01:16:22.842521Z",
     "start_time": "2019-08-23T01:16:22.838017Z"
    }
   },
   "outputs": [
    {
     "data": {
      "text/plain": [
       "(474, 3)"
      ]
     },
     "execution_count": 18,
     "metadata": {},
     "output_type": "execute_result"
    }
   ],
   "source": [
    "O"
   ]
  },
  {
   "cell_type": "code",
   "execution_count": 19,
   "metadata": {
    "ExecuteTime": {
     "end_time": "2019-08-23T01:16:28.370908Z",
     "start_time": "2019-08-23T01:16:28.182514Z"
    }
   },
   "outputs": [
    {
     "data": {
      "image/png": "[encoded data removed]",
      "text/plain": [
       "<Figure size 648x432 with 1 Axes>"
      ]
     },
     "metadata": {
      "needs_background": "light"
     },
     "output_type": "display_data"
    }
   ],
   "source": [
    "showFrame(frame)"
   ]
  },
  {
   "cell_type": "code",
   "execution_count": null,
   "metadata": {},
   "outputs": [],
   "source": []
  }
 ],
 "metadata": {
  "kernelspec": {
   "display_name": "Python 3",
   "language": "python",
   "name": "python3"
  },
  "language_info": {
   "codemirror_mode": {
    "name": "ipython",
    "version": 3
   },
   "file_extension": ".py",
   "mimetype": "text/x-python",
   "name": "python",
   "nbconvert_exporter": "python",
   "pygments_lexer": "ipython3",
   "version": "3.6.8"
  },
  "latex_envs": {
   "LaTeX_envs_menu_present": true,
   "autoclose": false,
   "autocomplete": true,
   "bibliofile": "biblio.bib",
   "cite_by": "apalike",
   "current_citInitial": 1,
   "eqLabelWithNumbers": true,
   "eqNumInitial": 1,
   "hotkeys": {
    "equation": "Ctrl-E",
    "itemize": "Ctrl-I"
   },
   "labels_anchors": false,
   "latex_user_defs": false,
   "report_style_numbering": false,
   "user_envs_cfg": false
  },
  "toc": {
   "base_numbering": 1,
   "nav_menu": {},
   "number_sections": true,
   "sideBar": true,
   "skip_h1_title": false,
   "title_cell": "Table of Contents",
   "title_sidebar": "Contents",
   "toc_cell": false,
   "toc_position": {},
   "toc_section_display": true,
   "toc_window_display": false
  },
  "varInspector": {
   "cols": {
    "lenName": 16,
    "lenType": 16,
    "lenVar": 40
   },
   "kernels_config": {
    "python": {
     "delete_cmd_postfix": "",
     "delete_cmd_prefix": "del ",
     "library": "var_list.py",
     "varRefreshCmd": "print(var_dic_list())"
    },
    "r": {
     "delete_cmd_postfix": ") ",
     "delete_cmd_prefix": "rm(",
     "library": "var_list.r",
     "varRefreshCmd": "cat(var_dic_list()) "
    }
   },
   "types_to_exclude": [
    "module",
    "function",
    "builtin_function_or_method",
    "instance",
    "_Feature"
   ],
   "window_display": false
  }
 },
 "nbformat": 4,
 "nbformat_minor": 2
}
