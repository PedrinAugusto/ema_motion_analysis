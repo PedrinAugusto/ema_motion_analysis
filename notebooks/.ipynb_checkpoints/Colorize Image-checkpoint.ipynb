{
 "cells": [
  {
   "cell_type": "code",
   "execution_count": 28,
   "metadata": {
    "ExecuteTime": {
     "end_time": "2019-08-03T02:17:21.034587Z",
     "start_time": "2019-08-03T02:17:21.014808Z"
    }
   },
   "outputs": [],
   "source": [
    "import cv2\n",
    "import time\n",
    "import numpy as np\n",
    "import matplotlib.pyplot as plt\n",
    "%matplotlib inline\n",
    "import matplotlib\n",
    "from IPython.display import Markdown as md\n",
    "import os\n",
    "import ipywidgets as wg\n",
    "from IPython.display import display\n",
    "from matplotlib import cm\n",
    "import math\n",
    "import json\n",
    "from random import randint\n",
    "import sys\n",
    "sys.path.append('../src/')\n",
    "import importlib\n",
    "import preprocessing\n",
    "importlib.reload(preprocessing)\n",
    "from preprocessing import *\n",
    "import importlib\n",
    "import visualizations\n",
    "importlib.reload(visualizations)\n",
    "from visualizations import *"
   ]
  },
  {
   "cell_type": "code",
   "execution_count": 29,
   "metadata": {
    "ExecuteTime": {
     "end_time": "2019-08-03T02:17:21.579083Z",
     "start_time": "2019-08-03T02:17:21.362708Z"
    },
    "scrolled": false
   },
   "outputs": [
    {
     "name": "stdout",
     "output_type": "stream",
     "text": [
      "[1, 0, 0]\n",
      "[1, 0.5, 0]\n"
     ]
    },
    {
     "data": {
      "image/png": "[encoded data removed]",
      "text/plain": [
       "<Figure size 648x432 with 1 Axes>"
      ]
     },
     "metadata": {
      "needs_background": "light"
     },
     "output_type": "display_data"
    }
   ],
   "source": [
    "joint_names = ['Neck',  \"Left Wrist\"]\n",
    "visualizeColoredVideo(\"Tennis_Federer.mp4\", \"Tennis_Federer_ISK.data\", joint_names = joint_names)"
   ]
  },
  {
   "cell_type": "code",
   "execution_count": 107,
   "metadata": {
    "ExecuteTime": {
     "end_time": "2019-08-03T02:42:17.292506Z",
     "start_time": "2019-08-03T02:42:17.160970Z"
    }
   },
   "outputs": [
    {
     "data": {
      "text/plain": [
       "(-0.5, 99.5, 51.5, -0.5)"
      ]
     },
     "execution_count": 107,
     "metadata": {},
     "output_type": "execute_result"
    },
    {
     "data": {
      "image/png": "[encoded data removed]",
      "text/plain": [
       "<Figure size 432x288 with 1 Axes>"
      ]
     },
     "metadata": {
      "needs_background": "light"
     },
     "output_type": "display_data"
    }
   ],
   "source": [
    "frame = np.zeros([100,100,3])\n",
    "cv2.line(frame, (0, 3), (100, 3), (1, 0, 0), 2)\n",
    "cv2.line(frame, (0, 6), (100, 6), (0, 1, 0), 2)\n",
    "cv2.line(frame, (0, 9), (100, 9), (0, 0, 1), 2)\n",
    "cv2.line(frame, (0, 12), (100, 12), (0, 1, 1), 2)\n",
    "cv2.line(frame, (0, 15), (100, 15), (0, 0.25, 0.5), 2)\n",
    "cv2.line(frame, (0, 18), (100, 18), (1, 0, 0.75), 2)\n",
    "cv2.line(frame, (0, 21), (100, 21), (0.5, 0, 0.25), 2)\n",
    "cv2.line(frame, (0, 24), (100, 24), (0, 0.5, 1), 2)\n",
    "cv2.line(frame, (0, 27), (100, 27), (1, 0.75, 0), 2)\n",
    "cv2.line(frame, (0, 30), (100, 30), (0.5, 0.5, 0.5), 2)\n",
    "cv2.line(frame, (0, 33), (100, 33), (0, 0.25, 0), 2)\n",
    "# cv2.line(frame, (0, 36), (100, 36), (1, 1, 0), 2)\n",
    "# cv2.line(frame, (0, 39), (100, 39), (1, 0.75, 0), 2)\n",
    "# cv2.line(frame, (0, 42), (100, 42), (1, 1, 0), 2)\n",
    "# cv2.line(frame, (0, 45), (100, 45), (1, 0.75, 0), 2)\n",
    "# cv2.line(frame, (0, 48), (100, 48), (1, 1, 0), 2)\n",
    "# cv2.line(frame, (0, 51), (100, 51), (1, 0.75, 0), 2)\n",
    "# cv2.line(frame, (0, 54), (100, 54), (1, 1, 0), 2)\n",
    "plt.imshow(frame[2:54,:,[2,1,0]])\n",
    "plt.axis(\"off\")"
   ]
  },
  {
   "cell_type": "code",
   "execution_count": null,
   "metadata": {},
   "outputs": [],
   "source": []
  }
 ],
 "metadata": {
  "kernelspec": {
   "display_name": "Python 3",
   "language": "python",
   "name": "python3"
  },
  "language_info": {
   "codemirror_mode": {
    "name": "ipython",
    "version": 3
   },
   "file_extension": ".py",
   "mimetype": "text/x-python",
   "name": "python",
   "nbconvert_exporter": "python",
   "pygments_lexer": "ipython3",
   "version": "3.6.7"
  },
  "latex_envs": {
   "LaTeX_envs_menu_present": true,
   "autoclose": false,
   "autocomplete": true,
   "bibliofile": "biblio.bib",
   "cite_by": "apalike",
   "current_citInitial": 1,
   "eqLabelWithNumbers": true,
   "eqNumInitial": 1,
   "hotkeys": {
    "equation": "Ctrl-E",
    "itemize": "Ctrl-I"
   },
   "labels_anchors": false,
   "latex_user_defs": false,
   "report_style_numbering": false,
   "user_envs_cfg": false
  },
  "toc": {
   "base_numbering": 1,
   "nav_menu": {},
   "number_sections": true,
   "sideBar": true,
   "skip_h1_title": false,
   "title_cell": "Table of Contents",
   "title_sidebar": "Contents",
   "toc_cell": false,
   "toc_position": {},
   "toc_section_display": true,
   "toc_window_display": false
  },
  "varInspector": {
   "cols": {
    "lenName": 16,
    "lenType": 16,
    "lenVar": 40
   },
   "kernels_config": {
    "python": {
     "delete_cmd_postfix": "",
     "delete_cmd_prefix": "del ",
     "library": "var_list.py",
     "varRefreshCmd": "print(var_dic_list())"
    },
    "r": {
     "delete_cmd_postfix": ") ",
     "delete_cmd_prefix": "rm(",
     "library": "var_list.r",
     "varRefreshCmd": "cat(var_dic_list()) "
    }
   },
   "types_to_exclude": [
    "module",
    "function",
    "builtin_function_or_method",
    "instance",
    "_Feature"
   ],
   "window_display": false
  }
 },
 "nbformat": 4,
 "nbformat_minor": 2
}
