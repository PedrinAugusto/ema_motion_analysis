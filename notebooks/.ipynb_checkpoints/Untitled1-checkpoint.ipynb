{
 "cells": [
  {
   "cell_type": "code",
   "execution_count": 1,
   "metadata": {
    "ExecuteTime": {
     "end_time": "2019-08-21T22:20:39.031506Z",
     "start_time": "2019-08-21T22:20:39.029451Z"
    }
   },
   "outputs": [],
   "source": [
    "import numpy as np"
   ]
  },
  {
   "cell_type": "code",
   "execution_count": 3,
   "metadata": {
    "ExecuteTime": {
     "end_time": "2019-08-21T22:21:16.059943Z",
     "start_time": "2019-08-21T22:21:16.056958Z"
    }
   },
   "outputs": [],
   "source": [
    "SL_pairs = [['Left Shoulder', 'Left Elbow'], ['Left Elbow', 'Left Wrist'], ['Left Shoulder', 'Left Hip'], \n",
    "            ['Left Hip', 'Left Knee'], ['Left Knee', 'Left Ankle']]\n",
    "\n",
    "keypoints_mapping_BODY_25 = ['Nose', 'Neck', 'Right Shoulder', 'Right Elbow', 'Right Wrist', 'Left Shoulder', \n",
    "                    'Left Elbow', 'Left Wrist', 'Middle Hip', 'Right Hip', 'Right Knee', 'Right Ankle', 'Left Hip', \n",
    "                    'Left Knee', 'Left Ankle', 'Right Eye', 'Left Eye', 'Right Ear', 'Left Ear', 'Left Big Toe', \n",
    "                    'Left Small Toe', 'Left Heel', 'Right Big Toe', 'Right Small Toe', 'Right Heel', 'Background']"
   ]
  },
  {
   "cell_type": "code",
   "execution_count": 5,
   "metadata": {
    "ExecuteTime": {
     "end_time": "2019-08-21T22:24:52.451411Z",
     "start_time": "2019-08-21T22:24:52.448440Z"
    }
   },
   "outputs": [
    {
     "name": "stdout",
     "output_type": "stream",
     "text": [
      "['Left Shoulder', 'Left Elbow'], (5, 6)\n",
      "['Left Elbow', 'Left Wrist'], (6, 7)\n",
      "['Left Shoulder', 'Left Hip'], (5, 12)\n",
      "['Left Hip', 'Left Knee'], (12, 13)\n",
      "['Left Knee', 'Left Ankle'], (13, 14)\n"
     ]
    }
   ],
   "source": [
    "joint_names = keypoints_mapping_BODY_25\n",
    "pairs_names = SL_pairs\n",
    "for pair in pairs_names:\n",
    "    A_idx = keypoints_mapping_BODY_25.index(pair[0])\n",
    "    B_idx = keypoints_mapping_BODY_25.index(pair[1])\n",
    "    print(\"{}, {}\".format(pair, (A_idx, B_idx)))"
   ]
  },
  {
   "cell_type": "code",
   "execution_count": 7,
   "metadata": {
    "ExecuteTime": {
     "end_time": "2019-08-21T22:47:55.889086Z",
     "start_time": "2019-08-21T22:47:55.880245Z"
    }
   },
   "outputs": [],
   "source": [
    "pose_pairs_BODY_25 = np.array([[1,2], [1,5], [2,3], [3,4], [5,6], [6,7],\n",
    "            [1,8], [8,9], [9,10], [12,13], [8,12], [10,11], \n",
    "            [11,24], [11,22], [22,23], [13,14], [14,21], [14,19], [19,20],\n",
    "            [1,0], [0,15], [0,16], [15,17], [16,18]])\n",
    "keypoints_mapping_BODY_25 = ['Nose', 'Neck', 'Right Shoulder', 'Right Elbow', 'Right Wrist', 'Left Shoulder', \n",
    "                    'Left Elbow', 'Left Wrist', 'Middle Hip', 'Right Hip', 'Right Knee', 'Right Ankle', 'Left Hip', \n",
    "                    'Left Knee', 'Left Ankle', 'Right Eye', 'Left Eye', 'Right Ear', 'Left Ear', 'Left Big Toe', \n",
    "                    'Left Small Toe', 'Left Heel', 'Right Big Toe', 'Right Small Toe', 'Right Heel', 'Background']"
   ]
  },
  {
   "cell_type": "code",
   "execution_count": 9,
   "metadata": {
    "ExecuteTime": {
     "end_time": "2019-08-21T22:51:19.474703Z",
     "start_time": "2019-08-21T22:51:19.470214Z"
    }
   },
   "outputs": [
    {
     "name": "stdout",
     "output_type": "stream",
     "text": [
      "('Neck', 'Right Shoulder')\n",
      "('Neck', 'Left Shoulder')\n",
      "('Right Shoulder', 'Right Elbow')\n",
      "('Right Elbow', 'Right Wrist')\n",
      "('Left Shoulder', 'Left Elbow')\n",
      "('Left Elbow', 'Left Wrist')\n",
      "('Neck', 'Middle Hip')\n",
      "('Middle Hip', 'Right Hip')\n",
      "('Right Hip', 'Right Knee')\n",
      "('Left Hip', 'Left Knee')\n",
      "('Middle Hip', 'Left Hip')\n",
      "('Right Knee', 'Right Ankle')\n",
      "('Right Ankle', 'Right Heel')\n",
      "('Right Ankle', 'Right Big Toe')\n",
      "('Right Big Toe', 'Right Small Toe')\n",
      "('Left Knee', 'Left Ankle')\n",
      "('Left Ankle', 'Left Heel')\n",
      "('Left Ankle', 'Left Big Toe')\n",
      "('Left Big Toe', 'Left Small Toe')\n",
      "('Neck', 'Nose')\n",
      "('Nose', 'Right Eye')\n",
      "('Nose', 'Left Eye')\n",
      "('Right Eye', 'Right Ear')\n",
      "('Left Eye', 'Left Ear')\n"
     ]
    }
   ],
   "source": [
    "BODY_25_pairs = []\n",
    "for i in range(len(pose_pairs_BODY_25)):\n",
    "    a_idx = pose_pairs_BODY_25[i][0]\n",
    "    b_idx = pose_pairs_BODY_25[i][1]\n",
    "    A = keypoints_mapping_BODY_25[a_idx]\n",
    "    B = keypoints_mapping_BODY_25[b_idx]\n",
    "    BODY_25_pairs.append([A,B])"
   ]
  },
  {
   "cell_type": "code",
   "execution_count": null,
   "metadata": {},
   "outputs": [],
   "source": []
  }
 ],
 "metadata": {
  "kernelspec": {
   "display_name": "Python 3",
   "language": "python",
   "name": "python3"
  },
  "language_info": {
   "codemirror_mode": {
    "name": "ipython",
    "version": 3
   },
   "file_extension": ".py",
   "mimetype": "text/x-python",
   "name": "python",
   "nbconvert_exporter": "python",
   "pygments_lexer": "ipython3",
   "version": "3.5.2"
  },
  "latex_envs": {
   "LaTeX_envs_menu_present": true,
   "autoclose": false,
   "autocomplete": true,
   "bibliofile": "biblio.bib",
   "cite_by": "apalike",
   "current_citInitial": 1,
   "eqLabelWithNumbers": true,
   "eqNumInitial": 1,
   "hotkeys": {
    "equation": "Ctrl-E",
    "itemize": "Ctrl-I"
   },
   "labels_anchors": false,
   "latex_user_defs": false,
   "report_style_numbering": false,
   "user_envs_cfg": false
  },
  "toc": {
   "base_numbering": 1,
   "nav_menu": {},
   "number_sections": true,
   "sideBar": true,
   "skip_h1_title": false,
   "title_cell": "Table of Contents",
   "title_sidebar": "Contents",
   "toc_cell": false,
   "toc_position": {},
   "toc_section_display": true,
   "toc_window_display": false
  },
  "varInspector": {
   "cols": {
    "lenName": 16,
    "lenType": 16,
    "lenVar": 40
   },
   "kernels_config": {
    "python": {
     "delete_cmd_postfix": "",
     "delete_cmd_prefix": "del ",
     "library": "var_list.py",
     "varRefreshCmd": "print(var_dic_list())"
    },
    "r": {
     "delete_cmd_postfix": ") ",
     "delete_cmd_prefix": "rm(",
     "library": "var_list.r",
     "varRefreshCmd": "cat(var_dic_list()) "
    }
   },
   "types_to_exclude": [
    "module",
    "function",
    "builtin_function_or_method",
    "instance",
    "_Feature"
   ],
   "window_display": false
  }
 },
 "nbformat": 4,
 "nbformat_minor": 2
}
