{
 "cells": [
  {
   "cell_type": "markdown",
   "metadata": {},
   "source": [
    "# Kinematic Chain"
   ]
  },
  {
   "cell_type": "markdown",
   "metadata": {
    "ExecuteTime": {
     "end_time": "2019-09-21T00:20:12.568711Z",
     "start_time": "2019-09-21T00:20:12.563060Z"
    }
   },
   "source": [
    "This notebook presents the tools for applying the kinematic chain designed for a rowing body model, along with functions to convert the data from pixel dimension (acquired directly from an image) to a 2 dimensional cartesian coordinate system, and vice versa. The notebook is organized in the following sections."
   ]
  },
  {
   "cell_type": "markdown",
   "metadata": {
    "toc": true
   },
   "source": [
    "<h1>Table of Contents<span class=\"tocSkip\"></span></h1>\n",
    "<div class=\"toc\"><ul class=\"toc-item\"><li><span><a href=\"#Kinematic-Chain\" data-toc-modified-id=\"Kinematic-Chain-1\"><span class=\"toc-item-num\">1&nbsp;&nbsp;</span>Kinematic Chain</a></span><ul class=\"toc-item\"><li><span><a href=\"#Dependencies\" data-toc-modified-id=\"Dependencies-1.1\"><span class=\"toc-item-num\">1.1&nbsp;&nbsp;</span>Dependencies</a></span></li><li><span><a href=\"#Implemented-Functions\" data-toc-modified-id=\"Implemented-Functions-1.2\"><span class=\"toc-item-num\">1.2&nbsp;&nbsp;</span>Implemented Functions</a></span></li><li><span><a href=\"#Pixel-to-millimeters-conversion\" data-toc-modified-id=\"Pixel-to-millimeters-conversion-1.3\"><span class=\"toc-item-num\">1.3&nbsp;&nbsp;</span>Pixel to millimeters conversion</a></span><ul class=\"toc-item\"><li><span><a href=\"#Angle-from-pixels-showed-as-an-image\" data-toc-modified-id=\"Angle-from-pixels-showed-as-an-image-1.3.1\"><span class=\"toc-item-num\">1.3.1&nbsp;&nbsp;</span>Angle from pixels showed as an image</a></span></li><li><span><a href=\"#Angle-from-cartesian-coordinates-showed-graphically\" data-toc-modified-id=\"Angle-from-cartesian-coordinates-showed-graphically-1.3.2\"><span class=\"toc-item-num\">1.3.2&nbsp;&nbsp;</span>Angle from cartesian coordinates showed graphically</a></span></li><li><span><a href=\"#Conversion-from-cartesian-coordinates-to-pixel-representation\" data-toc-modified-id=\"Conversion-from-cartesian-coordinates-to-pixel-representation-1.3.3\"><span class=\"toc-item-num\">1.3.3&nbsp;&nbsp;</span>Conversion from cartesian coordinates to pixel representation</a></span></li><li><span><a href=\"#Conversion-from-pixel-representation-to-cartesian-coordinates\" data-toc-modified-id=\"Conversion-from-pixel-representation-to-cartesian-coordinates-1.3.4\"><span class=\"toc-item-num\">1.3.4&nbsp;&nbsp;</span>Conversion from pixel representation to cartesian coordinates</a></span></li><li><span><a href=\"#-Problems\" data-toc-modified-id=\"-Problems-1.3.5\"><span class=\"toc-item-num\">1.3.5&nbsp;&nbsp;</span><font color=\"red\"> Problems</font></a></span></li></ul></li><li><span><a href=\"#Kinematic-Model\" data-toc-modified-id=\"Kinematic-Model-1.4\"><span class=\"toc-item-num\">1.4&nbsp;&nbsp;</span>Kinematic Model</a></span><ul class=\"toc-item\"><li><span><a href=\"#Master-Motor-Map-Framework-(MMM)\" data-toc-modified-id=\"Master-Motor-Map-Framework-(MMM)-1.4.1\"><span class=\"toc-item-num\">1.4.1&nbsp;&nbsp;</span>Master Motor Map Framework (MMM)</a></span></li><li><span><a href=\"#Rowing-Model\" data-toc-modified-id=\"Rowing-Model-1.4.2\"><span class=\"toc-item-num\">1.4.2&nbsp;&nbsp;</span>Rowing Model</a></span></li><li><span><a href=\"#-Problems\" data-toc-modified-id=\"-Problems-1.4.3\"><span class=\"toc-item-num\">1.4.3&nbsp;&nbsp;</span><font color=\"red\"> Problems</font></a></span></li><li><span><a href=\"#-Overall-proposal\" data-toc-modified-id=\"-Overall-proposal-1.4.4\"><span class=\"toc-item-num\">1.4.4&nbsp;&nbsp;</span><font color=\"green\"> Overall proposal</font></a></span></li></ul></li><li><span><a href=\"#Inverse-Kinematics\" data-toc-modified-id=\"Inverse-Kinematics-1.5\"><span class=\"toc-item-num\">1.5&nbsp;&nbsp;</span>Inverse Kinematics</a></span><ul class=\"toc-item\"><li><span><a href=\"#Set-keypoints-example\" data-toc-modified-id=\"Set-keypoints-example-1.5.1\"><span class=\"toc-item-num\">1.5.1&nbsp;&nbsp;</span>Set keypoints example</a></span></li><li><span><a href=\"#Apply-inverse-kinematics-for-a-pixel-representation\" data-toc-modified-id=\"Apply-inverse-kinematics-for-a-pixel-representation-1.5.2\"><span class=\"toc-item-num\">1.5.2&nbsp;&nbsp;</span>Apply inverse kinematics for a pixel representation</a></span></li><li><span><a href=\"#Apply-inverse-kinematics-for-a-cartesian-representation\" data-toc-modified-id=\"Apply-inverse-kinematics-for-a-cartesian-representation-1.5.3\"><span class=\"toc-item-num\">1.5.3&nbsp;&nbsp;</span>Apply inverse kinematics for a cartesian representation</a></span></li></ul></li><li><span><a href=\"#Foward-Kinematics\" data-toc-modified-id=\"Foward-Kinematics-1.6\"><span class=\"toc-item-num\">1.6&nbsp;&nbsp;</span>Foward Kinematics</a></span><ul class=\"toc-item\"><li><span><a href=\"#Show-bone-dimensions-from-starting-pose\" data-toc-modified-id=\"Show-bone-dimensions-from-starting-pose-1.6.1\"><span class=\"toc-item-num\">1.6.1&nbsp;&nbsp;</span>Show bone dimensions from starting pose</a></span></li><li><span><a href=\"#Show-angles-and-distances-graphically\" data-toc-modified-id=\"Show-angles-and-distances-graphically-1.6.2\"><span class=\"toc-item-num\">1.6.2&nbsp;&nbsp;</span>Show angles and distances graphically</a></span></li><li><span><a href=\"#Set-angles-example\" data-toc-modified-id=\"Set-angles-example-1.6.3\"><span class=\"toc-item-num\">1.6.3&nbsp;&nbsp;</span>Set angles example</a></span></li></ul></li></ul></li></ul></div>"
   ]
  },
  {
   "cell_type": "markdown",
   "metadata": {
    "heading_collapsed": true
   },
   "source": [
    "## Dependencies"
   ]
  },
  {
   "cell_type": "markdown",
   "metadata": {
    "hidden": true
   },
   "source": [
    "All the libraries used in this notebook are:\n",
    "\n",
    "- Opencv 3 (optional script for linux OS: [opencv_script_linux](https://github.com/milq/milq/blob/master/s/bash/install-opencv.sh); scripts for other OS: [opencv_script_others](https://github.com/spmallick/learnopencv/tree/master/InstallScripts))\n",
    "- Numpy (pip install numpy)\n",
    "- Matplotlib (pip install matplotlib)\n",
    "- Math (native I think)"
   ]
  },
  {
   "cell_type": "code",
   "execution_count": 1,
   "metadata": {
    "ExecuteTime": {
     "end_time": "2019-09-27T02:35:44.547800Z",
     "start_time": "2019-09-27T02:35:37.303324Z"
    },
    "hidden": true
   },
   "outputs": [],
   "source": [
    "import cv2\n",
    "import numpy as np\n",
    "import matplotlib.pyplot as plt\n",
    "import math"
   ]
  },
  {
   "cell_type": "markdown",
   "metadata": {},
   "source": [
    "## Implemented Functions"
   ]
  },
  {
   "cell_type": "markdown",
   "metadata": {},
   "source": [
    "List of all the functions used in the notebook. \n",
    "\n",
    "<font color=\"red\">Tip: in order to see the function structure from any cell, just type and execute:</font>\n",
    "    \n",
    "<font color=\"red\">??nameOfTheFunction</font>"
   ]
  },
  {
   "cell_type": "code",
   "execution_count": 2,
   "metadata": {
    "ExecuteTime": {
     "end_time": "2019-09-27T02:35:44.614737Z",
     "start_time": "2019-09-27T02:35:44.550520Z"
    }
   },
   "outputs": [],
   "source": [
    "def getPointsDistance(A, B):\n",
    "    distance = np.sqrt(np.sum(np.power((A - B),2)))\n",
    "    return distance\n",
    "                      \n",
    "def getBoneDimensions(keypoints_xy):\n",
    "    \"\"\" Expected joint order\n",
    "    if orientation == \"Sagittal Right\":\n",
    "        joints_order = [\"Right Ankle\", \"Right Knee\", \"Right Hip\", \"Right Shoulder\", \"Right Elbow\", \"Right Wrist\"]\n",
    "    else:\n",
    "        joints_order = [\"Left Ankle\", \"Left Knee\", \"Left Hip\", \"Left Shoulder\", \"Left Elbow\", \"Left Wrist\"]\n",
    "    \"\"\"\n",
    "    distances = np.zeros(5)\n",
    "    for i in range(5):\n",
    "        distances[i] = getPointsDistance(keypoints_xy[i], keypoints_xy[i+1])\n",
    "    return distances\n",
    "\n",
    "def getPixel(coord_xy, f_height, mmppx=1, mmppy=1):\n",
    "    j = int(round(coord_xy[0]/mmppx))\n",
    "    i = int(round(f_height - (coord_xy[1]/mmppy)))\n",
    "    return np.array([j, i])\n",
    "\n",
    "def getCoord(pixel_ji, f_height, mmppx=1, mmppy=1):\n",
    "    x = pixel_ji[0]*mmppx\n",
    "    y = (f_height - pixel_ji[1])*mmppy\n",
    "    return np.array([x, y])\n",
    "\n",
    "def getKeypointsPixels(keypoints_xy, f_height, mmppx=1, mmppy=1):\n",
    "    keypoints_ji = np.zeros(keypoints_xy.shape)\n",
    "    for i in range(len(keypoints)):\n",
    "        keypoints_ji[i] = list(getPixel(keypoints_xy[i], f_height, mmppx, mmppy))\n",
    "    return keypoints_ji\n",
    "\n",
    "def getKeypointsCoord(keypoints_ji, f_height, mmppx=1, mmppy=1):\n",
    "    keypoints_xy = np.zeros(keypoints_ji.shape)\n",
    "    for i in range(len(keypoints)):\n",
    "        keypoints_xy[i] = list(getCoord(keypoints_ji[i], f_height, mmppx, mmppy))\n",
    "    return keypoints_xy\n",
    "\n",
    "def showFrame(frame):\n",
    "    plt.figure(figsize=[9,6])\n",
    "    plt.imshow(frame[:,:,[2,1,0]])\n",
    "    plt.axis(\"off\")\n",
    "    plt.show()\n",
    "\n",
    "def drawCircle(img, coord, thickness=5):\n",
    "    coord = tuple(coord.astype(int))\n",
    "    cv2.circle(img, coord, thickness, (0,0,1), -1)\n",
    "    return img\n",
    "\n",
    "def drawLine(img, A, B, color = (0,0,0), thickness = 2):\n",
    "    A = tuple(A.astype(int))\n",
    "    B = tuple(B.astype(int))\n",
    "    cv2.line(img, A, B, color,thickness)\n",
    "    return img\n",
    "\n",
    "def getAngle(A, B, O):\n",
    "    x1, y1, x2, y2 = A[0], A[1], B[0], B[1]\n",
    "    angle = int(math.atan((y1-y2)/(x2-x1))*180/math.pi)\n",
    "    return angle\n",
    "\n",
    "def getAngleLimited(A, B, O):\n",
    "    try:\n",
    "        ang = math.degrees(math.atan2(B[1]-O[1], B[0]-O[0]) - math.atan2(A[1]-O[1], A[0]-O[0]))\n",
    "        if ang < 0:\n",
    "            ang += 360\n",
    "        if ang > 180:\n",
    "            ang = 360 - ang\n",
    "    except:\n",
    "        ang = 0\n",
    "    return ang\n",
    "\n",
    "def drawAngle(img, O, angle, thickness=10, textsize=1):\n",
    "    O = tuple(O.astype(int))\n",
    "    font = cv2.FONT_HERSHEY_SIMPLEX\n",
    "    cv2.circle(img, O, thickness, (1,0.8,0.8), -1)\n",
    "    cv2.putText(img,str(int(round(angle))),(O[0]-round(thickness/2),O[1]-round(thickness/2)), font, textsize,(1,0,0),2,cv2.LINE_AA)\n",
    "    return img\n",
    "\n",
    "def showAngleImage(frame, A, B, O):\n",
    "    frame = drawLine(frame, A, O)\n",
    "    frame = drawLine(frame, O, B)\n",
    "    frame = drawCircle(frame, A)\n",
    "    frame = drawCircle(frame, B)\n",
    "    frame = drawCircle(frame, O)\n",
    "    angle = getAngleLimited(A, B, O)\n",
    "    frame = drawAngle(frame, O, angle)\n",
    "    showFrame(frame)\n",
    "\n",
    "def showAnglePlot(A, B, O):\n",
    "    angle = getAngleLimited(A, B, O)\n",
    "    plt.figure()\n",
    "    plt.plot([A[0], O[0]], [A[1], O[1]], 'ro-')\n",
    "    plt.plot([O[0], B[0]], [O[1], B[1]], 'ro-')\n",
    "    plt.text(O[0], O[1], \"{}\".format(round(angle)), bbox=dict(facecolor='red', alpha=0.5))\n",
    "    plt.gca().set_aspect('equal', adjustable='box')\n",
    "    plt.grid()\n",
    "    plt.show()\n",
    "\n",
    "def showJointsImage(frame, keypoints_ji, joint_pairs, thickness=5, textsize=0.8):\n",
    "#     joint_names_abv = [\"RA\", \"RK\", \"RH\", \"RS\", \"RE\", \"RW\"]\n",
    "#     i = 0\n",
    "    for pair in joint_pairs:\n",
    "        A = keypoints_ji[pair[0]]\n",
    "        B = keypoints_ji[pair[1]]\n",
    "        frame = drawLine(frame, A, B)\n",
    "        frame = drawCircle(frame, A)\n",
    "#         font = cv2.FONT_HERSHEY_SIMPLEX\n",
    "#         cv2.putText(frame,joint_names_abv[i],(int(A[0]-round(thickness/2)),int(A[1]-round(thickness/2))), font, textsize,(0,0,1),2,cv2.LINE_AA)\n",
    "#         i+=1\n",
    "    showFrame(frame)\n",
    "    \n",
    "def showJointsPlot(keypoints_xy, joint_pairs):\n",
    "    plt.figure()\n",
    "    for pair in joint_pairs:\n",
    "        A = keypoints_xy[pair[0]]\n",
    "        B = keypoints_xy[pair[1]]\n",
    "        plt.plot([A[0], B[0]], [A[1], B[1]], 'ro-', color = \"black\")\n",
    "        circle1 = plt.Circle((A[0], A[1]), 1, color='r')\n",
    "        plt.gca().set_aspect('equal', adjustable='box')\n",
    "    plt.grid()\n",
    "    plt.show()\n",
    "\n",
    "def inverseKinematicsRowing(keypoints_ji):\n",
    "    \"\"\" Expected joint order\n",
    "    if orientation == \"Sagittal Right\":\n",
    "        joints_order = [\"Right Ankle\", \"Right Knee\", \"Right Hip\", \"Right Shoulder\", \"Right Elbow\", \"Right Wrist\"]\n",
    "    else:\n",
    "        joints_order = [\"Left Ankle\", \"Left Knee\", \"Left Hip\", \"Left Shoulder\", \"Left Elbow\", \"Left Wrist\"]\n",
    "    \"\"\"\n",
    "    angles = np.zeros(5)\n",
    "    for i in range(5):\n",
    "        if i == 0:\n",
    "            O = keypoints_ji[i]\n",
    "            B = keypoints_ji[i+1]\n",
    "            C = keypoints_ji[i+2]\n",
    "            A = np.array([C[0], O[1]])\n",
    "        else:\n",
    "            A = keypoints_ji[i-1]\n",
    "            O = keypoints_ji[i]\n",
    "            B = keypoints_ji[i+1]\n",
    "            \n",
    "        angles[i] = getAngleLimited(A, B, O)\n",
    "        if i==3:\n",
    "            if A[0] > B[0]:\n",
    "                angles[i] = -angles[i]\n",
    "    return angles\n",
    "\n",
    "def fowardKinematicsRowing(root_xy, angles, distances, orientation = \"Sagittal Left\"):\n",
    "    keypointsFK_xy = np.zeros([6, 2])\n",
    "    keypointsFK_xy[0] = root_xy\n",
    "    if orientation == \"Sagittal Left\":\n",
    "        sign = 1\n",
    "    else:\n",
    "        sign = -1\n",
    "    for i in range (1, 6):\n",
    "        if i == 1:\n",
    "            arg = math.radians(angles[i-1])\n",
    "            keypointsFK_xy[i, 0] = keypointsFK_xy[i-1, 0] - (sign)*distances[i-1]*math.cos(arg)\n",
    "            keypointsFK_xy[i, 1] = keypointsFK_xy[i-1, 1] + distances[i-1]*math.sin(arg)\n",
    "        elif i == 2:\n",
    "            arg = math.pi - arg - math.radians(angles[i-1])\n",
    "            keypointsFK_xy[i, 0] = keypointsFK_xy[i-1, 0] - (sign)*distances[i-1]*math.cos(arg)\n",
    "            keypointsFK_xy[i, 1] = keypointsFK_xy[i-1, 1] - distances[i-1]*math.sin(arg)\n",
    "        elif i == 3:\n",
    "            #arg = arg - math.radians(angles[i-1])\n",
    "            arg = math.pi - arg - math.radians(angles[i-1])\n",
    "            keypointsFK_xy[i, 0] = keypointsFK_xy[i-1, 0] - (sign)*distances[i-1]*math.cos(arg)\n",
    "            keypointsFK_xy[i, 1] = keypointsFK_xy[i-1, 1] + distances[i-1]*math.sin(arg)\n",
    "        elif i == 4:\n",
    "            #arg = math.pi - arg - math.radians(angles[i-1])\n",
    "            arg = arg - math.radians(angles[i-1])\n",
    "            keypointsFK_xy[i, 0] = keypointsFK_xy[i-1, 0] + (sign)*distances[i-1]*math.cos(arg)\n",
    "            keypointsFK_xy[i, 1] = keypointsFK_xy[i-1, 1] - distances[i-1]*math.sin(arg)\n",
    "        elif i == 5:\n",
    "            arg = math.pi - arg - math.radians(angles[i-1])\n",
    "            keypointsFK_xy[i, 0] = keypointsFK_xy[i-1, 0] + (sign)*distances[i-1]*math.cos(arg)\n",
    "            keypointsFK_xy[i, 1] = keypointsFK_xy[i-1, 1] + distances[i-1]*math.sin(arg)\n",
    "            \n",
    "    return keypointsFK_xy\n",
    "\n",
    "def showRowingChainAnglesImage(frame, keypoints_ji, textsize=0.5):\n",
    "    \"\"\" Expected joint order\n",
    "    if orientation == \"Sagittal Right\":\n",
    "        joints_order = [\"Right Ankle\", \"Right Knee\", \"Right Hip\", \"Right Shoulder\", \"Right Elbow\", \"Right Wrist\"]\n",
    "    else:\n",
    "        joints_order = [\"Left Ankle\", \"Left Knee\", \"Left Hip\", \"Left Shoulder\", \"Left Elbow\", \"Left Wrist\"]\n",
    "    \"\"\"    \n",
    "    angles = inverseKinematicsRowing(keypoints_ji)\n",
    "    for i in range(5):\n",
    "        O = keypoints_ji[i]\n",
    "        B = keypoints_ji[i+1]       \n",
    "        frame = drawLine(frame, O, B)\n",
    "        frame = drawAngle(frame, O, angles[i], 5, textsize)\n",
    "        \n",
    "    showFrame(frame)\n",
    "    \n",
    "def showRowingChainAnglesPlot(keypoints_xy): \n",
    "    \"\"\" Expected joint order\n",
    "    if orientation == \"Sagittal Right\":\n",
    "        joints_order = [\"Right Ankle\", \"Right Knee\", \"Right Hip\", \"Right Shoulder\", \"Right Elbow\", \"Right Wrist\"]\n",
    "    else:\n",
    "        joints_order = [\"Left Ankle\", \"Left Knee\", \"Left Hip\", \"Left Shoulder\", \"Left Elbow\", \"Left Wrist\"]\n",
    "    \"\"\"    \n",
    "    angles = inverseKinematicsRowing(keypoints_xy)\n",
    "    \n",
    "    plt.figure()\n",
    "    for i in range(5):\n",
    "        O = keypoints_xy[i]\n",
    "        B = keypoints_xy[i+1]          \n",
    "        plt.plot([O[0], B[0]], [O[1], B[1]], 'ro-', color = \"black\")\n",
    "        circle1 = plt.Circle((O[0], O[1]), 1, color='r')\n",
    "        plt.text(O[0], O[1], \"{}\".format(int(round(angles[i]))), bbox=dict(facecolor='red', alpha=0.5))\n",
    "        plt.gca().set_aspect('equal', adjustable='box')\n",
    "    plt.grid()\n",
    "    plt.show()\n",
    "\n",
    "def showRowingChainDistancesPlot(keypoints_xy): \n",
    "    \"\"\" Expected joint order\n",
    "    if orientation == \"Sagittal Right\":\n",
    "        joints_order = [\"Right Ankle\", \"Right Knee\", \"Right Hip\", \"Right Shoulder\", \"Right Elbow\", \"Right Wrist\"]\n",
    "    else:\n",
    "        joints_order = [\"Left Ankle\", \"Left Knee\", \"Left Hip\", \"Left Shoulder\", \"Left Elbow\", \"Left Wrist\"]\n",
    "    \"\"\"    \n",
    "    distances = getBoneDimensions(keypoints_xy)\n",
    "    \n",
    "    plt.figure()\n",
    "    for i in range(5):\n",
    "        A = keypoints_xy[i]\n",
    "        B = keypoints_xy[i+1]\n",
    "        O = (A+B)/2.0\n",
    "               \n",
    "        plt.plot([A[0], B[0]], [A[1], B[1]], 'ro-', color = \"black\")\n",
    "        circle1 = plt.Circle((A[0], A[1]), 1, color='r')\n",
    "        plt.text(O[0], O[1], \"{}\".format(int(round(distances[i]))), bbox=dict(facecolor='blue', alpha=0.5))\n",
    "        plt.gca().set_aspect('equal', adjustable='box')\n",
    "    plt.grid()\n",
    "    plt.show()\n",
    "    \n",
    "def showRowingChainAnglesDistancesPlot(keypoints_xy): \n",
    "    \"\"\" Expected joint order\n",
    "    if orientation == \"Sagittal Right\":\n",
    "        joints_order = [\"Right Ankle\", \"Right Knee\", \"Right Hip\", \"Right Shoulder\", \"Right Elbow\", \"Right Wrist\"]\n",
    "    else:\n",
    "        joints_order = [\"Left Ankle\", \"Left Knee\", \"Left Hip\", \"Left Shoulder\", \"Left Elbow\", \"Left Wrist\"]\n",
    "    \"\"\"    \n",
    "    angles = inverseKinematicsRowing(keypoints_xy)\n",
    "    \n",
    "    plt.figure()\n",
    "    for i in range(5):\n",
    "        A = keypoints_xy[i]\n",
    "        B = keypoints_xy[i+1]\n",
    "        O = (A+B)/2.0\n",
    "               \n",
    "        plt.plot([A[0], B[0]], [A[1], B[1]], 'ro-', color = \"black\")\n",
    "        circle1 = plt.Circle((A[0], A[1]), 1, color='r')\n",
    "        plt.text(O[0], O[1], \"{}\".format(int(round(distances[i]))), bbox=dict(facecolor='blue', alpha=0.5))\n",
    "        plt.text(A[0], A[1], \"{}\".format(int(round(angles[i]))), bbox=dict(facecolor='red', alpha=0.5))\n",
    "        plt.gca().set_aspect('equal', adjustable='box')\n",
    "    plt.grid()\n",
    "    plt.show()"
   ]
  },
  {
   "cell_type": "markdown",
   "metadata": {},
   "source": [
    "## Pixel to millimeters conversion"
   ]
  },
  {
   "cell_type": "markdown",
   "metadata": {},
   "source": [
    "This section consists of the conversion applied to change the pixel representation acquired from the camera to a cartesian coordinate systems with known units in millimeters. This is accomplished simplifying the problem to a 2D representation, where the lenght in millimeters represented by a pixel is constant across for each axis across all image, or at least for the region of interest.\n",
    "\n",
    "For a calibrated camera this assumption can be made for a plane parallel to the camera lens. In the rowing scenario this plane can be considered as the sagittal plane of the exercise, where the only segments of the body moving away considerably from the plane are the arms, possibly compromising the elbows and wrist joints. But, for now, those effects will be desconsidered."
   ]
  },
  {
   "cell_type": "markdown",
   "metadata": {
    "heading_collapsed": true
   },
   "source": [
    "### Angle from pixels showed as an image"
   ]
  },
  {
   "cell_type": "markdown",
   "metadata": {
    "hidden": true
   },
   "source": [
    "Here we implemented a function to show the angle between two segments (with pixel representation) as an image. The inputs are three pixel coordinates (A B and O) where the angle calculated is the angle between the segments A-O and O-B. For this purpose the frame dimensions are specified, along with the respective pixel coordinates.\n",
    "\n",
    "The function used to find the angle is expressed as degrees and limits the angle to be the lower of the two options, i.e always lower or equal to 180 degrees."
   ]
  },
  {
   "cell_type": "code",
   "execution_count": 3,
   "metadata": {
    "ExecuteTime": {
     "end_time": "2019-09-27T02:35:45.389931Z",
     "start_time": "2019-09-27T02:35:44.617682Z"
    },
    "hidden": true,
    "scrolled": false
   },
   "outputs": [
    {
     "data": {
      "image/png": "[encoded data removed]",
      "text/plain": [
       "<Figure size 648x432 with 1 Axes>"
      ]
     },
     "metadata": {
      "needs_background": "light"
     },
     "output_type": "display_data"
    },
    {
     "name": "stdout",
     "output_type": "stream",
     "text": [
      "90.0\n"
     ]
    }
   ],
   "source": [
    "frame_width = 480\n",
    "frame_height = 640\n",
    "frame = np.ones([480,640,3])\n",
    "A = np.array([100,100])\n",
    "B = np.array([400,400])\n",
    "O = np.array([100, 400])\n",
    "showAngleImage(frame, A, B, O)\n",
    "angle = getAngleLimited(A, B, O)\n",
    "print(angle)"
   ]
  },
  {
   "cell_type": "markdown",
   "metadata": {
    "heading_collapsed": true
   },
   "source": [
    "### Angle from cartesian coordinates showed graphically"
   ]
  },
  {
   "cell_type": "markdown",
   "metadata": {
    "hidden": true
   },
   "source": [
    "Here the same logic is applied, but now instead of showing the result as an image, we plot it graphically. The input coordinates (Ac, Bc and Oc) are expressed as millimeters.\n",
    "\n",
    "The function used to find the angle is the same used before because it was built to accept either pixel or cartesian coordinates."
   ]
  },
  {
   "cell_type": "markdown",
   "metadata": {
    "heading_collapsed": true
   },
   "source": [
    "### Conversion from cartesian coordinates to pixel representation"
   ]
  },
  {
   "cell_type": "markdown",
   "metadata": {
    "hidden": true
   },
   "source": [
    "Here a conversion is applied to inform the three coordinates (Ac, Bc and Oc) with a cartesian representation and get the corresponding pixel coordinates and the angle between the segments. \n",
    "\n",
    "To convert from the pixel representation to cartesian coordinates (expressed as millimeters) we first need to know the millimeters per pixel proportion (mmpp) in the x and y coordinates, i.e how many millimeters does a single pixel corresponds to in each axis. \n",
    "\n",
    "The conversion function is:\n",
    "\n",
    "\\begin{eqnarray}\n",
    "    j &=& round \\left (\\frac{x}{mmpp_x} \\right) \\\\\n",
    "    i &=& round \\left (f_{height} - \\frac{y}{mmpp_y} \\right)\n",
    "\\end{eqnarray}\n",
    "\n",
    "where $j$ is the column index and $i$ is the row index of the matrix representing the frame of the image. $f_{height}$ is the maximum frame height (i.e max number of rows considered). This is necessary because the rows (which are equivalent to the $y$ axis) increases downwards while the $y$ axis increases upwards, creating an inverse relationship between them that does not occur for the \\textit{columns/x axis} case."
   ]
  },
  {
   "cell_type": "code",
   "execution_count": 5,
   "metadata": {
    "ExecuteTime": {
     "end_time": "2019-09-27T02:35:45.910443Z",
     "start_time": "2019-09-27T02:35:45.714884Z"
    },
    "hidden": true
   },
   "outputs": [
    {
     "data": {
      "image/png": "[encoded data removed]",
      "text/plain": [
       "<Figure size 648x432 with 1 Axes>"
      ]
     },
     "metadata": {
      "needs_background": "light"
     },
     "output_type": "display_data"
    },
    {
     "name": "stdout",
     "output_type": "stream",
     "text": [
      "63.434948822922024\n"
     ]
    }
   ],
   "source": [
    "f_height = 480\n",
    "f_width = 640\n",
    "mmppx = 0.1\n",
    "mmppy = 0.1\n",
    "frame = np.ones([f_height,f_width,3])\n",
    "Ac = np.array([25,40])\n",
    "Bc = np.array([50,10])\n",
    "Oc = np.array([10,10])\n",
    "A = getPixel(Ac, f_height, mmppx, mmppy)\n",
    "B = getPixel(Bc, f_height, mmppx, mmppy)\n",
    "O = getPixel(Oc, f_height, mmppx, mmppy)\n",
    "showAngleImage(frame, A, B, O)\n",
    "angle = getAngleLimited(Ac, Bc, Oc)\n",
    "print(angle)"
   ]
  },
  {
   "cell_type": "markdown",
   "metadata": {
    "heading_collapsed": true
   },
   "source": [
    "### Conversion from pixel representation to cartesian coordinates"
   ]
  },
  {
   "cell_type": "markdown",
   "metadata": {
    "hidden": true
   },
   "source": [
    "Conversely, here a conversion is applied to inform the three coordinates (A, B and O) with a pixel representation and get the corresponding cartesian coordinates and the angle between the segments. \n",
    "\n",
    "Similiarly, to convert from the cartesian representation to pixel coordinates ($ji$) we first need to know the millimeters per pixel proportion (mmpp) in the x and y coordinates, i.e how many millimeters does a single pixel corresponds to in each axis. \n",
    "\n",
    "The conversion function is:\n",
    "\n",
    "\\begin{eqnarray}\n",
    "    x &=& j \\cdot mmpp_x \\\\\n",
    "    y &=& (f_{height} - i) \\cdot mmpp_y\n",
    "\\end{eqnarray}\n",
    "\n",
    "where $x$ is the horizontal axis value and $y$ is the vertical axis value. $f_{height}$ is the maximum frame height (i.e max number of rows considered). Again, this is necessary because the rows $i$ (which are equivalent to the $y$ axis) increases downwards while the $y$ axis increases upwards, creating an inverse relationship between them that does not occur for the \\textit{columns/x axis} case."
   ]
  },
  {
   "cell_type": "code",
   "execution_count": 6,
   "metadata": {
    "ExecuteTime": {
     "end_time": "2019-09-27T02:35:46.100330Z",
     "start_time": "2019-09-27T02:35:45.912844Z"
    },
    "hidden": true,
    "scrolled": false
   },
   "outputs": [
    {
     "data": {
      "image/png": "[encoded data removed]",
      "text/plain": [
       "<Figure size 432x288 with 1 Axes>"
      ]
     },
     "metadata": {
      "needs_background": "light"
     },
     "output_type": "display_data"
    },
    {
     "name": "stdout",
     "output_type": "stream",
     "text": [
      "90.0\n"
     ]
    }
   ],
   "source": [
    "f_height = 480\n",
    "A = np.array([100,100])\n",
    "B = np.array([400,400])\n",
    "O = np.array([100, 400])\n",
    "Ac = getCoord(A, f_height, mmppx=0.1, mmppy=0.1)\n",
    "Bc = getCoord(B, f_height, mmppx=0.1, mmppy=0.1)\n",
    "Oc = getCoord(O, f_height, mmppx=0.1, mmppy=0.1)\n",
    "showAnglePlot(Ac, Bc, Oc)\n",
    "angle = getAngleLimited(Ac, Bc, Oc)\n",
    "print(angle)"
   ]
  },
  {
   "cell_type": "markdown",
   "metadata": {
    "heading_collapsed": true
   },
   "source": [
    "### <font color=\"red\"> Problems</font>"
   ]
  },
  {
   "cell_type": "markdown",
   "metadata": {
    "hidden": true
   },
   "source": [
    "1. We need to define $mmpp_y$ and $mmpp_x$ previously, requiring additional preparation\n",
    "    - One possibility is to put a marker on the row, with known dimensions and use it as reference.\n",
    "    - Another idea is to set an interface in the beggining to allow the user to select any area with known dimensions."
   ]
  },
  {
   "cell_type": "markdown",
   "metadata": {
    "heading_collapsed": true
   },
   "source": [
    "## Kinematic Model"
   ]
  },
  {
   "cell_type": "markdown",
   "metadata": {
    "hidden": true
   },
   "source": [
    "The kinematic model used as basis for this project is the Master Motor Map Framework (MMM), which provides maximum angulation expected for each joint. From this model, we separated only the joints of interest for the rowing scenario."
   ]
  },
  {
   "cell_type": "markdown",
   "metadata": {
    "hidden": true
   },
   "source": [
    "###  Master Motor Map Framework (MMM)"
   ]
  },
  {
   "cell_type": "markdown",
   "metadata": {
    "hidden": true
   },
   "source": [
    "|         MMM Model          |      Joints Constraints     |\n",
    "|----------------------------|-----------------------------|\n",
    "|![image](files/mmm_body.png)|![image](files/mmm_table.png)|"
   ]
  },
  {
   "cell_type": "markdown",
   "metadata": {
    "hidden": true
   },
   "source": [
    "### Rowing Model"
   ]
  },
  {
   "cell_type": "markdown",
   "metadata": {
    "hidden": true
   },
   "source": [
    "Simplifying the MMM model in the sagittal plane and selecting only the joints of interest, we get the following cases: \n",
    "\n",
    "- Sagittal Right Pose: Right Ankle (RA), Right Knee (RK), Right Hip (RH), Right Shoulder (RS), Right Elbow (RE) and Right Wrist (RW).\n",
    "\n",
    "- Sagittal Left Pose: Left Ankle (RA), Left Knee (RK), Left Hip (RH), Left Shoulder (RS), Left Elbow (RE) and Left Wrist (RW).\n",
    "\n",
    "But, considering the additional constraints added by the rowing movement, the angles were further limited resulting in the following model, described as a kinematic chain:"
   ]
  },
  {
   "cell_type": "markdown",
   "metadata": {
    "hidden": true
   },
   "source": [
    "|     Rowing Model      |        |\n",
    ":-------------------------:|:-------------------------:\n",
    "![image](files/Rowing_model.png) | <style type=\"text/css\"> .tg {border-collapse:collapse;border-spacing:0;} .tg td{font-family:Arial, sans-serif;font-size:14px;padding:10px 5px;border-style:solid;border-width:1px;overflow:hidden;word-break:normal;border-color:black;} .tg th{font-family:Arial, sans-serif;font-size:14px;font-weight:normal;padding:10px 5px;border-style:solid;border-width:1px;overflow:hidden;word-break:normal;border-color:black;} .tg .tg-c3ow{border-color:inherit;text-align:center;vertical-align:top} .tg .tg-0lax{text-align:left;vertical-align:top} </style> <table class=\"tg\"> <tr> <th class=\"tg-c3ow\">Joint</th> <th class=\"tg-c3ow\">Angle Limits</th> </tr> <tr> <td class=\"tg-c3ow\">$\\theta_0$</td> <td class=\"tg-c3ow\">$[0^{\\circ}, 135^{\\circ}]$</td> </tr> <tr> <td class=\"tg-c3ow\">$\\theta_1$</td> <td class=\"tg-c3ow\">$[0^{\\circ}, 180^{\\circ}]$</td> </tr> <tr> <td class=\"tg-0lax\">$\\theta_2$</td> <td class=\"tg-0lax\">$[0^{\\circ}, 180^{\\circ}]$</td> </tr> <tr> <td class=\"tg-0lax\">$\\theta_3$</td> <td class=\"tg-0lax\">$[-90^{\\circ},120 ^{\\circ}]$</td> </tr> <tr> <td class=\"tg-0lax\">$\\theta_4$</td> <td class=\"tg-0lax\">$[0^{\\circ}, 180^{\\circ}]$</td> </tr> </table>"
   ]
  },
  {
   "cell_type": "markdown",
   "metadata": {
    "hidden": true
   },
   "source": [
    "It is also worth noticing that the $d_3$ and $d_4$ segments aren't fixed in size, due to its moviment not being limited to the sagittal plane, resulting in a prismatic joint where the length varies as a function of time."
   ]
  },
  {
   "cell_type": "markdown",
   "metadata": {
    "hidden": true
   },
   "source": [
    "### <font color=\"red\"> Problems</font>"
   ]
  },
  {
   "cell_type": "markdown",
   "metadata": {
    "hidden": true
   },
   "source": [
    "1. The kinematic model needs information of the distances between joints\n",
    "    - **Solution 1**: use first frame as a reference to get distances.\n",
    "        - Advantages: doesn't need additional setup\n",
    "        - Disadvantages: first frame is liable to measurement errors or even false negatives\n",
    "    - **Solution 2**: demand known initial position (e.g arms straight at the beggining of the movement) and wait for the system to provide a good initial measure before starting.\n",
    "        - Advantages: may provide more reliable joints distances than the first solution, guarantees the absence of false negatives\n",
    "        - Disadvantages: is also liable to measurement errors and can take longer until system is ready (longer setup)\n",
    "    - **Solution 3**: demand known initial position outside the ergometer row (e.g standing still) maximizing the likelihood of getting good joint estimates to be used as joint distances or at least for joints proportions.\n",
    "        - Advantages: may provide more reliable joints distances than the first and second solution, also guarantees the absence of false negatives\n",
    "        - Disadvantages: longer setup and, if used for joints distance directly, requires the pose to be in the same plane or as close as possible to the ergometer row plane, making it not much practical\n",
    "    - **Solution 4**: Use only the most reliable joint distance (normally the hip to shoulder segment) and set the others with known proportions.\n",
    "        - Advantages: doesn't require a good estimate on all joints segments only one\n",
    "        - Disadvantages: requires knowledge of the proportions\n",
    "    - **Solution 5** (personal favorite): Mix between solutions 4 and 5, where the proportion is set and stored for each person by capturing a standing still pose and this information is then used to estimate the joints distance. based on a measured reference (shoulder-hip segment) from the first frame. Because only the proportions will be stored, the plane considered for the standing still pose is not important. Also, for a fine tuning, the pose identified to get the proportions can be manually adjusted (with a quick interface) to improve the precision, if desired.\n",
    "        - Advantages: should provide the best overall distance measures, robust to measurement errors and false negatives\n",
    "        - Diadvantages: longest setup of all options\n",
    "\n",
    "\n",
    "2. Because the pose is reconstructed starting from the ankle, its measure needs to be the best, otherwise the error will propagate.\n",
    "    - **Solution 1**: trust the measure.\n",
    "        - Advantages: the ankle joint tends to be well estimated. No setup required.\n",
    "        - Diadvantages: although the ankle joint estimate tends to be classified in the ankle region, little variations inside this region (maybe due to discordance on where the point actually is) may propagate the error considerably, especially to the final joints (elbow and wrist)\n",
    "    - **Solution 2**: select or correct the joint position in the initial setup (possibly together with the shoulder-hip joint definition) and consider it static during the rowing movement\n",
    "        - Advantages: may provide better estimates than the first solution\n",
    "        - Diadvantages: higher setup required and, most important, the ankle joint isn't static in the rowing movement because the foot hold is free in the lower extremity, making it possibly worst than the first actually\n",
    "    - **Solution 3**: instead of using the ankle as the anchor for the kinematic model, use the toe (which is fixed in the foot hold) and set it, along with its distance to the ankle joint, in the initial configuration, adding another angle to estimate\n",
    "        - Advantages: should provide the best estimates overall\n",
    "        - Diadvantages: require additional setup and additional estimates, being susceptible to more measurement errors"
   ]
  },
  {
   "cell_type": "markdown",
   "metadata": {
    "hidden": true
   },
   "source": [
    "### <font color=\"green\"> Overall proposal</font>"
   ]
  },
  {
   "cell_type": "markdown",
   "metadata": {
    "hidden": true
   },
   "source": [
    "An optional initial configuration step will be added, where every user can be registered with a standing still picture, which will be used to store his joint proportions and can be fine tuned manually from the interface. Then, at the beggining of the exercise, the user will be presented with the option to load any configuration file to be used as reference. \n",
    "\n",
    "The camera can also be calibrated initially, if desired, via a third party app with an interactive calibration process. Those first steps are only necessary once, assuming the camera is remained at the same position/environment, otherwise the process should be reapeated.\n",
    "\n",
    "Before starting the exercise, another adjustment will be possible, where the anchor placement can be set alongside with the ankle initial position (through the interface).\n",
    "\n",
    "All this options and its contributions should be evaluated from the experiments, but all the implemented solution could be available in the interface.\n",
    "\n",
    "Even though the project goal is to make a low setup biomechanical analysis system, the sport scenario requires high data precision. Therefore, a resonable solution is to introduce additional setup options, where it is possible to improve precision as a trade-off with setup time. Moreover, this solution shouldn't prevent the system from being used in outdoor applications, which is also one of the main goals of the project."
   ]
  },
  {
   "cell_type": "markdown",
   "metadata": {
    "heading_collapsed": true
   },
   "source": [
    "## Inverse Kinematics"
   ]
  },
  {
   "cell_type": "markdown",
   "metadata": {
    "hidden": true
   },
   "source": [
    "The calculation of the inverse kinematics is easier, because it can be done simply by taking the angle between every two adjacent segments. But, given the specificity of the considered angle for each case, this calculation depends on both the joint and the orientation (sagittal right or left) in question.\n",
    "\n",
    "Therefore, the formula for the angle extraction goes as follow:"
   ]
  },
  {
   "cell_type": "markdown",
   "metadata": {
    "heading_collapsed": true,
    "hidden": true
   },
   "source": [
    "### Set keypoints example"
   ]
  },
  {
   "cell_type": "markdown",
   "metadata": {
    "hidden": true
   },
   "source": [
    "First we separate an example of a rowing pose acquired from a video."
   ]
  },
  {
   "cell_type": "code",
   "execution_count": 7,
   "metadata": {
    "ExecuteTime": {
     "end_time": "2019-09-27T02:35:51.596893Z",
     "start_time": "2019-09-27T02:35:51.586076Z"
    },
    "hidden": true
   },
   "outputs": [],
   "source": [
    "# Joints parameters\n",
    "joint_names = [\"Right Ankle\", \"Right Knee\", \"Right Hip\", \"Right Shoulder\", \"Right Elbow\", \"Right Wrist\"]\n",
    "joint_pairs = np.array([[0, 1], [1, 2], [2, 3], [3, 4], [4, 5]])\n",
    "keypoints = np.array([[309.0799294364889, 257.9850095323881], [237.54669086157156, 184.67854415301966], [129.60211926786423, 212.549560134363], [113.91245679876394, 104.33869973669145], [147.4302053610447, 154.58071676016732], [222.78538870226456, 162.36262676440668]])\n",
    "\n",
    "# Frame parameters\n",
    "frame_width = 512\n",
    "frame_height = 352\n",
    "frame = np.ones([frame_height,frame_width,3])"
   ]
  },
  {
   "cell_type": "markdown",
   "metadata": {
    "hidden": true
   },
   "source": [
    "\\textbf{Show pose as an image}"
   ]
  },
  {
   "cell_type": "code",
   "execution_count": 8,
   "metadata": {
    "ExecuteTime": {
     "end_time": "2019-09-27T02:35:52.213567Z",
     "start_time": "2019-09-27T02:35:52.047124Z"
    },
    "hidden": true,
    "scrolled": false
   },
   "outputs": [
    {
     "data": {
      "image/png": "[encoded data removed]",
      "text/plain": [
       "<Figure size 648x432 with 1 Axes>"
      ]
     },
     "metadata": {
      "needs_background": "light"
     },
     "output_type": "display_data"
    }
   ],
   "source": [
    "frame = np.ones([frame_height,frame_width,3])\n",
    "showJointsImage(frame, keypoints, joint_pairs)"
   ]
  },
  {
   "cell_type": "markdown",
   "metadata": {
    "hidden": true
   },
   "source": [
    "\\textbf{Show joints graphically}"
   ]
  },
  {
   "cell_type": "code",
   "execution_count": 9,
   "metadata": {
    "ExecuteTime": {
     "end_time": "2019-09-27T02:35:52.730989Z",
     "start_time": "2019-09-27T02:35:52.523908Z"
    },
    "hidden": true,
    "scrolled": false
   },
   "outputs": [
    {
     "data": {
      "image/png": "[encoded data removed]",
      "text/plain": [
       "<Figure size 432x288 with 1 Axes>"
      ]
     },
     "metadata": {
      "needs_background": "light"
     },
     "output_type": "display_data"
    }
   ],
   "source": [
    "keypoints_xy = getKeypointsCoord(keypoints, frame_height, mmppx=0.1, mmppy=0.1)\n",
    "showJointsPlot(keypoints_xy, joint_pairs)"
   ]
  },
  {
   "cell_type": "markdown",
   "metadata": {
    "heading_collapsed": true,
    "hidden": true
   },
   "source": [
    "### Apply inverse kinematics for a pixel representation"
   ]
  },
  {
   "cell_type": "code",
   "execution_count": 10,
   "metadata": {
    "ExecuteTime": {
     "end_time": "2019-09-27T02:35:53.178556Z",
     "start_time": "2019-09-27T02:35:53.004122Z"
    },
    "hidden": true,
    "scrolled": false
   },
   "outputs": [
    {
     "data": {
      "image/png": "[encoded data removed]",
      "text/plain": [
       "<Figure size 648x432 with 1 Axes>"
      ]
     },
     "metadata": {
      "needs_background": "light"
     },
     "output_type": "display_data"
    },
    {
     "name": "stdout",
     "output_type": "stream",
     "text": [
      "[  45.70141911  119.82114462   83.77247786   25.45836384  129.60429772]\n"
     ]
    }
   ],
   "source": [
    "frame = np.ones([frame_height,frame_width,3])\n",
    "showRowingChainAnglesImage(frame, keypoints)\n",
    "angles = inverseKinematicsRowing(keypoints)\n",
    "print(angles)"
   ]
  },
  {
   "cell_type": "markdown",
   "metadata": {
    "heading_collapsed": true,
    "hidden": true
   },
   "source": [
    "### Apply inverse kinematics for a cartesian representation"
   ]
  },
  {
   "cell_type": "code",
   "execution_count": 11,
   "metadata": {
    "ExecuteTime": {
     "end_time": "2019-09-27T02:35:53.860892Z",
     "start_time": "2019-09-27T02:35:53.576177Z"
    },
    "hidden": true
   },
   "outputs": [
    {
     "data": {
      "image/png": "[encoded data removed]",
      "text/plain": [
       "<Figure size 432x288 with 1 Axes>"
      ]
     },
     "metadata": {
      "needs_background": "light"
     },
     "output_type": "display_data"
    },
    {
     "name": "stdout",
     "output_type": "stream",
     "text": [
      "[  45.70141911  119.82114462   83.77247786   25.45836384  129.60429772]\n"
     ]
    }
   ],
   "source": [
    "keypoints_xy = getKeypointsCoord(keypoints, frame_height, mmppx=1, mmppy=1)\n",
    "showRowingChainAnglesPlot(keypoints_xy)\n",
    "angles = inverseKinematicsRowing(keypoints_xy)\n",
    "print(angles)"
   ]
  },
  {
   "cell_type": "markdown",
   "metadata": {
    "heading_collapsed": true
   },
   "source": [
    "## Foward Kinematics"
   ]
  },
  {
   "cell_type": "markdown",
   "metadata": {
    "heading_collapsed": true,
    "hidden": true
   },
   "source": [
    "### Show bone dimensions from starting pose"
   ]
  },
  {
   "cell_type": "code",
   "execution_count": 12,
   "metadata": {
    "ExecuteTime": {
     "end_time": "2019-09-27T02:35:54.779008Z",
     "start_time": "2019-09-27T02:35:54.556976Z"
    },
    "hidden": true,
    "scrolled": true
   },
   "outputs": [
    {
     "data": {
      "image/png": "[encoded data removed]",
      "text/plain": [
       "<Figure size 432x288 with 1 Axes>"
      ]
     },
     "metadata": {
      "needs_background": "light"
     },
     "output_type": "display_data"
    },
    {
     "name": "stdout",
     "output_type": "stream",
     "text": [
      "[  885.37012928   997.63588837  1162.14883668   727.79502151   737.45218528]\n"
     ]
    }
   ],
   "source": [
    "# Joints order\n",
    "joint_names = [\"Right Ankle\", \"Right Knee\", \"Right Hip\", \"Right Shoulder\", \"Right Elbow\", \"Right Wrist\"]\n",
    "joint_pairs = np.array([[0, 1], [1, 2], [2, 3], [3, 4], [4, 5]])\n",
    "\n",
    "# Example acquired from a video\n",
    "frame_width = 512\n",
    "frame_height = 352\n",
    "frame = np.ones([frame_height,frame_width,3])\n",
    "\n",
    "keypoints = np.array([[309.6488458675051, 246.32102756240764], [334.27899739984014, 161.27893037653914], [251.541748018357, 217.0222817509081], [278.8293854281327, 104.05642836800503], [339.61156388205626, 144.08620123530085], [409.9074489250655, 166.37623940965867]])\n",
    "keypoints_xy = getKeypointsCoord(keypoints, frame_height, mmppx=10, mmppy=10)\n",
    "showRowingChainDistancesPlot(keypoints_xy)\n",
    "distances = getBoneDimensions(keypoints_xy)\n",
    "print(distances)"
   ]
  },
  {
   "cell_type": "markdown",
   "metadata": {
    "heading_collapsed": true,
    "hidden": true
   },
   "source": [
    "### Show angles and distances graphically"
   ]
  },
  {
   "cell_type": "code",
   "execution_count": 13,
   "metadata": {
    "ExecuteTime": {
     "end_time": "2019-09-27T02:35:55.310520Z",
     "start_time": "2019-09-27T02:35:55.052334Z"
    },
    "hidden": true,
    "scrolled": false
   },
   "outputs": [
    {
     "data": {
      "image/png": "[encoded data removed]",
      "text/plain": [
       "<Figure size 432x288 with 1 Axes>"
      ]
     },
     "metadata": {
      "needs_background": "light"
     },
     "output_type": "display_data"
    },
    {
     "name": "stdout",
     "output_type": "stream",
     "text": [
      "[ 106.1522348    39.87806035   42.45026727   70.21202826  164.22523889]\n",
      "[  885.37012928   997.63588837  1162.14883668   727.79502151   737.45218528]\n"
     ]
    }
   ],
   "source": [
    "showRowingChainAnglesDistancesPlot(keypoints_xy)\n",
    "angles = inverseKinematicsRowing(keypoints_xy)\n",
    "print(angles)\n",
    "distances = getBoneDimensions(keypoints_xy)\n",
    "print(distances)"
   ]
  },
  {
   "cell_type": "markdown",
   "metadata": {
    "hidden": true
   },
   "source": [
    "### Set angles example"
   ]
  },
  {
   "cell_type": "code",
   "execution_count": 14,
   "metadata": {
    "ExecuteTime": {
     "end_time": "2019-09-27T02:35:55.789772Z",
     "start_time": "2019-09-27T02:35:55.564127Z"
    },
    "hidden": true,
    "scrolled": false
   },
   "outputs": [
    {
     "data": {
      "image/png": "[encoded data removed]",
      "text/plain": [
       "<Figure size 432x288 with 1 Axes>"
      ]
     },
     "metadata": {
      "needs_background": "light"
     },
     "output_type": "display_data"
    },
    {
     "name": "stdout",
     "output_type": "stream",
     "text": [
      "Distances: [700 700 800 300 600]\n",
      "Angles: [  5 170 100 -10 110]\n"
     ]
    }
   ],
   "source": [
    "root_xy = np.array([2000, 0])\n",
    "angles = np.array([5, 170, 100, -10, 110])\n",
    "distances = np.array([700, 700, 800, 300, 600])\n",
    "keypointsFK_xy = fowardKinematicsRowing(root_xy, angles, distances)\n",
    "showRowingChainAnglesDistancesPlot(keypointsFK_xy)\n",
    "print(\"Distances:\", distances)\n",
    "print(\"Angles:\", angles)"
   ]
  }
 ],
 "metadata": {
  "kernelspec": {
   "display_name": "Python 3",
   "language": "python",
   "name": "python3"
  },
  "language_info": {
   "codemirror_mode": {
    "name": "ipython",
    "version": 3
   },
   "file_extension": ".py",
   "mimetype": "text/x-python",
   "name": "python",
   "nbconvert_exporter": "python",
   "pygments_lexer": "ipython3",
   "version": "3.6.8"
  },
  "latex_envs": {
   "LaTeX_envs_menu_present": true,
   "autoclose": false,
   "autocomplete": true,
   "bibliofile": "biblio.bib",
   "cite_by": "apalike",
   "current_citInitial": 1,
   "eqLabelWithNumbers": true,
   "eqNumInitial": 1,
   "hotkeys": {
    "equation": "Ctrl-E",
    "itemize": "Ctrl-I"
   },
   "labels_anchors": false,
   "latex_user_defs": false,
   "report_style_numbering": false,
   "user_envs_cfg": false
  },
  "toc": {
   "base_numbering": 1,
   "nav_menu": {},
   "number_sections": true,
   "sideBar": true,
   "skip_h1_title": false,
   "title_cell": "Table of Contents",
   "title_sidebar": "Contents",
   "toc_cell": true,
   "toc_position": {},
   "toc_section_display": true,
   "toc_window_display": false
  },
  "varInspector": {
   "cols": {
    "lenName": 16,
    "lenType": 16,
    "lenVar": 40
   },
   "kernels_config": {
    "python": {
     "delete_cmd_postfix": "",
     "delete_cmd_prefix": "del ",
     "library": "var_list.py",
     "varRefreshCmd": "print(var_dic_list())"
    },
    "r": {
     "delete_cmd_postfix": ") ",
     "delete_cmd_prefix": "rm(",
     "library": "var_list.r",
     "varRefreshCmd": "cat(var_dic_list()) "
    }
   },
   "types_to_exclude": [
    "module",
    "function",
    "builtin_function_or_method",
    "instance",
    "_Feature"
   ],
   "window_display": false
  }
 },
 "nbformat": 4,
 "nbformat_minor": 2
}
