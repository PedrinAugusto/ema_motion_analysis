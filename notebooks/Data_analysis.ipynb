{
 "cells": [
  {
   "cell_type": "markdown",
   "metadata": {},
   "source": [
    "# Importar bibliotecas "
   ]
  },
  {
   "cell_type": "code",
   "execution_count": 2,
   "metadata": {
    "ExecuteTime": {
     "end_time": "2019-09-07T13:21:33.688448Z",
     "start_time": "2019-09-07T13:21:32.850849Z"
    }
   },
   "outputs": [],
   "source": [
    "import cv2\n",
    "import time\n",
    "import numpy as np\n",
    "import matplotlib.pyplot as plt\n",
    "%matplotlib inline\n",
    "import matplotlib\n",
    "from IPython.display import Markdown as md\n",
    "import os\n",
    "import ipywidgets as wg\n",
    "from IPython.display import display\n",
    "from matplotlib import cm\n",
    "import math\n",
    "import json\n",
    "from random import randint\n",
    "import sys\n",
    "sys.path.append('../src/')\n",
    "import importlib\n",
    "import preprocessing\n",
    "importlib.reload(preprocessing)\n",
    "from preprocessing import *\n",
    "import importlib\n",
    "import visualizations\n",
    "importlib.reload(visualizations)\n",
    "from visualizations import *"
   ]
  },
  {
   "cell_type": "markdown",
   "metadata": {},
   "source": [
    "# Ler dados "
   ]
  },
  {
   "cell_type": "code",
   "execution_count": 3,
   "metadata": {
    "ExecuteTime": {
     "end_time": "2019-09-07T13:21:34.908793Z",
     "start_time": "2019-09-07T13:21:34.764200Z"
    }
   },
   "outputs": [],
   "source": [
    "data = readAllFramesDATA(\"../Data/Victor/Victor_OPK.data\")"
   ]
  },
  {
   "cell_type": "code",
   "execution_count": 4,
   "metadata": {
    "ExecuteTime": {
     "end_time": "2019-09-07T13:21:37.777693Z",
     "start_time": "2019-09-07T13:21:37.761245Z"
    }
   },
   "outputs": [
    {
     "data": {
      "text/plain": [
       "({'video_name': 'Victor',\n",
       "  'n_frames': 200,\n",
       "  'n_points': 18,\n",
       "  'frame_width': 512,\n",
       "  'frame_height': 352,\n",
       "  'fps': 30,\n",
       "  'summary': 'Openpose with Kalman and Interp',\n",
       "  'joint_pairs': [3, 7, 8, 2, 19]},\n",
       " array([[[ 240.07676631,  104.59125781],\n",
       "         [ 305.51847397,  148.66432208],\n",
       "         [ 372.51796333,  165.23545166],\n",
       "         [ 203.08818423,  213.42848686],\n",
       "         [ 294.29320659,  160.34038315],\n",
       "         [ 314.01321907,  262.96959323]],\n",
       " \n",
       "        [[ 236.03200309,  104.00461543],\n",
       "         [ 303.97922149,  147.14809783],\n",
       "         [ 368.75269039,  163.01250359],\n",
       "         [ 194.89002886,  212.81461262],\n",
       "         [ 288.30684627,  161.51323824],\n",
       "         [ 313.98263659,  262.82991306]],\n",
       " \n",
       "        [[ 231.33516845,  103.56120591],\n",
       "         [ 301.45636344,  145.40650086],\n",
       "         [ 364.27879061,  160.78958765],\n",
       "         [ 186.4798758 ,  212.28253409],\n",
       "         [ 282.25811265,  162.93034651],\n",
       "         [ 313.78114509,  262.72807746]],\n",
       " \n",
       "        ..., \n",
       "        [[ 268.26835695,  104.02971393],\n",
       "         [ 328.53802769,  143.47454428],\n",
       "         [ 393.784822  ,  163.98854283],\n",
       "         [ 243.4196152 ,  215.55676964],\n",
       "         [ 324.6797786 ,  161.63809804],\n",
       "         [ 310.20036486,  249.54195997]],\n",
       " \n",
       "        [[ 273.81602101,  104.03973721],\n",
       "         [ 334.40386967,  143.66534147],\n",
       "         [ 401.87119932,  165.18856366],\n",
       "         [ 247.46073965,  216.27247081],\n",
       "         [ 329.49839137,  161.42699938],\n",
       "         [ 309.97098512,  247.86554754]],\n",
       " \n",
       "        [[ 278.82938543,  104.05642837],\n",
       "         [ 339.61156388,  144.08620124],\n",
       "         [ 409.90744893,  166.37623941],\n",
       "         [ 251.54174802,  217.02228175],\n",
       "         [ 334.2789974 ,  161.27893038],\n",
       "         [ 309.64884587,  246.32102756]]]))"
      ]
     },
     "execution_count": 4,
     "metadata": {},
     "output_type": "execute_result"
    }
   ],
   "source": [
    "data"
   ]
  },
  {
   "cell_type": "code",
   "execution_count": null,
   "metadata": {},
   "outputs": [],
   "source": []
  }
 ],
 "metadata": {
  "kernelspec": {
   "display_name": "Python 3",
   "language": "python",
   "name": "python3"
  },
  "language_info": {
   "codemirror_mode": {
    "name": "ipython",
    "version": 3
   },
   "file_extension": ".py",
   "mimetype": "text/x-python",
   "name": "python",
   "nbconvert_exporter": "python",
   "pygments_lexer": "ipython3",
   "version": "3.6.8"
  },
  "latex_envs": {
   "LaTeX_envs_menu_present": true,
   "autoclose": false,
   "autocomplete": true,
   "bibliofile": "biblio.bib",
   "cite_by": "apalike",
   "current_citInitial": 1,
   "eqLabelWithNumbers": true,
   "eqNumInitial": 1,
   "hotkeys": {
    "equation": "Ctrl-E",
    "itemize": "Ctrl-I"
   },
   "labels_anchors": false,
   "latex_user_defs": false,
   "report_style_numbering": false,
   "user_envs_cfg": false
  },
  "toc": {
   "base_numbering": 1,
   "nav_menu": {},
   "number_sections": true,
   "sideBar": true,
   "skip_h1_title": false,
   "title_cell": "Table of Contents",
   "title_sidebar": "Contents",
   "toc_cell": false,
   "toc_position": {},
   "toc_section_display": true,
   "toc_window_display": false
  },
  "varInspector": {
   "cols": {
    "lenName": 16,
    "lenType": 16,
    "lenVar": 40
   },
   "kernels_config": {
    "python": {
     "delete_cmd_postfix": "",
     "delete_cmd_prefix": "del ",
     "library": "var_list.py",
     "varRefreshCmd": "print(var_dic_list())"
    },
    "r": {
     "delete_cmd_postfix": ") ",
     "delete_cmd_prefix": "rm(",
     "library": "var_list.r",
     "varRefreshCmd": "cat(var_dic_list()) "
    }
   },
   "types_to_exclude": [
    "module",
    "function",
    "builtin_function_or_method",
    "instance",
    "_Feature"
   ],
   "window_display": false
  }
 },
 "nbformat": 4,
 "nbformat_minor": 2
}
