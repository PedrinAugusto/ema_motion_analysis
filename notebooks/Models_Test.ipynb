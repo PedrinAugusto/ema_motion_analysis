{
 "cells": [
  {
   "cell_type": "code",
   "execution_count": 1,
   "metadata": {
    "ExecuteTime": {
     "end_time": "2019-07-14T12:50:10.462044Z",
     "start_time": "2019-07-14T12:50:02.459146Z"
    }
   },
   "outputs": [],
   "source": [
    "import cv2\n",
    "import time\n",
    "import numpy as np\n",
    "import matplotlib.pyplot as plt\n",
    "%matplotlib inline\n",
    "import matplotlib\n",
    "from IPython.display import Markdown as md\n",
    "import os\n",
    "import ipywidgets as wg\n",
    "from IPython.display import display\n",
    "from matplotlib import cm\n",
    "import math\n",
    "import json\n",
    "from random import randint\n",
    "import sys\n",
    "sys.path.append('../src/')\n",
    "import importlib\n",
    "import preprocessing\n",
    "importlib.reload(preprocessing)\n",
    "from preprocessing import *\n",
    "import visualizations\n",
    "importlib.reload(visualizations)\n",
    "from visualizations import *\n",
    "import detection\n",
    "importlib.reload(detection)\n",
    "from detection import *"
   ]
  },
  {
   "cell_type": "markdown",
   "metadata": {
    "heading_collapsed": true
   },
   "source": [
    "## Parâmetros"
   ]
  },
  {
   "cell_type": "code",
   "execution_count": 2,
   "metadata": {
    "ExecuteTime": {
     "end_time": "2019-07-14T12:50:10.496662Z",
     "start_time": "2019-07-14T12:50:10.480186Z"
    },
    "hidden": true
   },
   "outputs": [],
   "source": [
    "proto_file = \"../Models/Openpose/coco/pose_deploy_linevec.prototxt\"\n",
    "weights_file = \"../Models/Openpose/coco/pose_iter_440000.caffemodel\"\n",
    "videos_dir = \"../Videos/\"\n",
    "data_dir = \"../Data/\"\n",
    "\n",
    "n_points = 18\n",
    "# COCO Output Format\n",
    "keypoints_mapping = np.array(['Nose', 'Neck', 'R-Sho', 'R-Elb', 'R-Wr', 'L-Sho', \n",
    "                    'L-Elb', 'L-Wr', 'R-Hip', 'R-Knee', 'R-Ank', 'L-Hip', \n",
    "                    'L-Knee', 'L-Ank', 'R-Eye', 'L-Eye', 'R-Ear', 'L-Ear'])\n",
    "\n",
    "pose_pairs = np.array([[1,2], [1,5], [2,3], [3,4], [5,6], [6,7],\n",
    "              [1,8], [8,9], [9,10], [1,11], [11,12], [12,13],\n",
    "              [1,0], [0,14], [14,16], [0,15], [15,17],\n",
    "              [2,17], [5,16]])\n",
    "\n",
    "# index of pafs correspoding to the pose_pairs\n",
    "# e.g for POSE_PAIR(1,2), the PAFs are located at indices (31,32) of output, Similarly, (1,5) -> (39,40) and so on.\n",
    "map_idx = np.array([[31,32], [39,40], [33,34], [35,36], [41,42], [43,44], \n",
    "          [19,20], [21,22], [23,24], [25,26], [27,28], [29,30], \n",
    "          [47,48], [49,50], [53,54], [51,52], [55,56], \n",
    "          [37,38], [45,46]])\n",
    "\n",
    "colors = [ [0,100,255], [0,100,255], [0,255,255], [0,100,255], [0,255,255], [0,100,255],\n",
    "         [0,255,0], [255,200,100], [255,0,255], [0,255,0], [255,200,100], [255,0,255],\n",
    "         [0,0,255], [255,0,0], [200,200,0], [255,0,0], [200,200,0], [0,0,0]]"
   ]
  },
  {
   "cell_type": "markdown",
   "metadata": {
    "heading_collapsed": true
   },
   "source": [
    "## Functions"
   ]
  },
  {
   "cell_type": "code",
   "execution_count": 45,
   "metadata": {
    "ExecuteTime": {
     "end_time": "2019-07-14T00:42:34.673699Z",
     "start_time": "2019-07-14T00:42:34.661199Z"
    },
    "hidden": true
   },
   "outputs": [],
   "source": [
    "def VisualizeHeatmap(image, output, j, threshold=0.1, alpha=0.6, binary=False):\n",
    "    frame_width = image.shape[1]\n",
    "    frame_height = image.shape[0]\n",
    "    prob_map = output[0, j, :, :]\n",
    "    prob_map = cv2.resize(prob_map, (frame_width, frame_height))\n",
    "    if(binary == False):\n",
    "        prob_map = np.where(prob_map<threshold, 0.0, prob_map)\n",
    "    else:\n",
    "        prob_map = np.where(prob_map<threshold, 0.0, prob_map.max())\n",
    "    plt.figure(figsize=[14,10])\n",
    "    plt.imshow(cv2.cvtColor(image1, cv2.COLOR_BGR2RGB))\n",
    "    plt.imshow(prob_map, alpha=alpha, vmax=prob_map.max(), vmin=0.0)\n",
    "    plt.colorbar()\n",
    "    plt.axis(\"off\")"
   ]
  },
  {
   "cell_type": "code",
   "execution_count": 35,
   "metadata": {
    "ExecuteTime": {
     "end_time": "2019-07-14T00:39:28.979052Z",
     "start_time": "2019-07-14T00:39:28.971261Z"
    },
    "hidden": true
   },
   "outputs": [],
   "source": [
    "def SingleFrameInference(frame, print_time=True):\n",
    "    t = time.time()\n",
    "    net = cv2.dnn.readNetFromCaffe(proto_file, weights_file)\n",
    "    \n",
    "    frame_width = frame.shape[1]\n",
    "    frame_height = frame.shape[0]\n",
    "    \n",
    "    # Fix the input Height and get the width according to the Aspect Ratio\n",
    "    in_height = 368\n",
    "    in_width = 368\n",
    "\n",
    "    #inp_blob = cv2.dnn.blobFromImage(frame, 1.0 / 255, (in_width, in_height),\n",
    "    #                          (0, 0, 0), swapRB=False, crop=False)\n",
    "\n",
    "    inp_blob = cv2.dnn.blobFromImage(frame, 1.0 / 255, (in_width, in_height),\n",
    "                              (0, 0, 0), swapRB=False, crop=False)\n",
    "    \n",
    "    net.setInput(inp_blob)\n",
    "    net_output = net.forward()\n",
    "    time_taken = time.time() - t\n",
    "    if print_time:\n",
    "        print(\"Time Taken = {}\".format(time_taken))\n",
    "    return net_output, time_taken, inp_blob"
   ]
  },
  {
   "cell_type": "code",
   "execution_count": 14,
   "metadata": {
    "ExecuteTime": {
     "end_time": "2019-07-14T12:58:21.771864Z",
     "start_time": "2019-07-14T12:58:21.766669Z"
    },
    "hidden": true
   },
   "outputs": [],
   "source": [
    "def inferenceOP(video_name, n, threshold=0.1, n_interp_samples=10, paf_score_th=0.1, conf_th=0.7):\n",
    "    \n",
    "    image, frame_width, frame_height = getFrame(video_name, n)\n",
    "    output, _ = singleFrameInference(image, print_time=False)\n",
    "\n",
    "            # Gerar lista classificando os pontos para cada pessoa identificada\n",
    "    personwise_keypoints, keypoints_list = keypointsFromHeatmap(output, frame_width, frame_height, threshold, n_interp_samples, paf_score_th, conf_th)\n",
    "    return personwise_keypoints, keypoints_list"
   ]
  },
  {
   "cell_type": "code",
   "execution_count": 24,
   "metadata": {
    "ExecuteTime": {
     "end_time": "2019-07-14T13:00:45.237532Z",
     "start_time": "2019-07-14T13:00:45.220055Z"
    },
    "hidden": true
   },
   "outputs": [],
   "source": [
    "def visualizeResult(frame, personwise_keypoints, keypoints_list, persons, joint_pairs):\n",
    "    \n",
    "    frame_out = frame.copy()\n",
    "    \n",
    "    if (persons[0] == -1):\n",
    "        persons = np.arange(len(personwise_keypoints))\n",
    "        \n",
    "    if (joint_pairs[0] == -1):\n",
    "        joint_pairs = np.arange(len(pose_pairs)-2)\n",
    "        \n",
    "    for i in joint_pairs:\n",
    "        for n in persons:\n",
    "            index = personwise_keypoints[n][np.array(pose_pairs[i])]\n",
    "            if -1 in index:\n",
    "                continue\n",
    "            B = np.int32(keypoints_list[index.astype(int), 0])\n",
    "            A = np.int32(keypoints_list[index.astype(int), 1])\n",
    "            cv2.line(frame_out, (B[0], A[0]), (B[1], A[1]), colors[i], 3, cv2.LINE_AA)\n",
    "\n",
    "    plt.figure(figsize=[8,6])\n",
    "    plt.imshow(frame_out[:,:,[2,1,0]])\n",
    "    plt.axis(\"off\")"
   ]
  },
  {
   "cell_type": "markdown",
   "metadata": {
    "heading_collapsed": true
   },
   "source": [
    "## Teste"
   ]
  },
  {
   "cell_type": "code",
   "execution_count": 8,
   "metadata": {
    "ExecuteTime": {
     "end_time": "2019-07-14T12:53:45.668347Z",
     "start_time": "2019-07-14T12:53:44.344199Z"
    },
    "hidden": true,
    "hide_input": true,
    "scrolled": true
   },
   "outputs": [
    {
     "data": {
      "application/vnd.jupyter.widget-view+json": {
       "model_id": "dbe5aa51b49945ed84721518c3ddcaee",
       "version_major": 2,
       "version_minor": 0
      },
      "text/plain": [
       "HBox(children=(Dropdown(description='Video:', options=('Victor.mp4', 'Lucas.mp4', 'Diogo.mp4'), value='Victor.…"
      ]
     },
     "metadata": {},
     "output_type": "display_data"
    },
    {
     "data": {
      "application/vnd.jupyter.widget-view+json": {
       "model_id": "c84b9008308f4994a74e013622c3e2c3",
       "version_major": 2,
       "version_minor": 0
      },
      "text/plain": [
       "Output()"
      ]
     },
     "metadata": {},
     "output_type": "display_data"
    }
   ],
   "source": [
    "videos = os.listdir(videos_dir)\n",
    "video_dropdown = wg.Dropdown( options=videos,\n",
    "                        value='Victor.mp4',\n",
    "                        description='Video:',\n",
    "                        disabled=False)\n",
    "frame_n= wg.IntText(value=0,description='Frame:')\n",
    "y = wg.interactive_output(visualizeFrame, {\"video_name\":video_dropdown, \"n\":frame_n})\n",
    "hbox = wg.HBox([video_dropdown, frame_n])\n",
    "display(hbox, y)"
   ]
  },
  {
   "cell_type": "code",
   "execution_count": 27,
   "metadata": {
    "ExecuteTime": {
     "end_time": "2019-07-14T00:31:42.164964Z",
     "start_time": "2019-07-14T00:31:37.342563Z"
    },
    "hidden": true,
    "scrolled": true
   },
   "outputs": [],
   "source": [
    "personwise_keypoints, keypoints_list = inferenceOP(video_dropdown.value, frame_n.value)"
   ]
  },
  {
   "cell_type": "code",
   "execution_count": 28,
   "metadata": {
    "ExecuteTime": {
     "end_time": "2019-07-14T00:32:19.258070Z",
     "start_time": "2019-07-14T00:32:18.741470Z"
    },
    "hidden": true,
    "hide_input": true,
    "scrolled": true
   },
   "outputs": [
    {
     "data": {
      "application/vnd.jupyter.widget-view+json": {
       "model_id": "f717194740cb4f42b529821ac0aadd85",
       "version_major": 2,
       "version_minor": 0
      },
      "text/plain": [
       "HBox(children=(SelectMultiple(description='Persons', index=(0, 1), options=(0, 1), rows=2, value=(0, 1)), Sele…"
      ]
     },
     "metadata": {},
     "output_type": "display_data"
    },
    {
     "data": {
      "application/vnd.jupyter.widget-view+json": {
       "model_id": "f02a519e5e964cac938745c20cbab43e",
       "version_major": 2,
       "version_minor": 0
      },
      "text/plain": [
       "Output()"
      ]
     },
     "metadata": {},
     "output_type": "display_data"
    }
   ],
   "source": [
    "def interactiveResult(persons, joint_pairs):\n",
    "    visualizeResult(image1, personwise_keypoints, keypoints_list, persons, joint_pairs)\n",
    "\n",
    "persons = wg.SelectMultiple(options=[i for i in range(len(personwise_keypoints))],\n",
    "                            value=[i for i in range(len(personwise_keypoints))],\n",
    "                            rows=len(personwise_keypoints),\n",
    "                            description='Persons',\n",
    "                            disabled=False)\n",
    "\n",
    "joint_pairs = wg.SelectMultiple(options=[i for i in range(len(pose_pairs))],\n",
    "                                value=[i for i in range(len(pose_pairs))],\n",
    "                                rows=5,\n",
    "                                description='Pose Pairs',\n",
    "                                disabled=False)\n",
    "\n",
    "hbox_res = wg.HBox([persons, joint_pairs])\n",
    "\n",
    "i_res = wg.interactive_output(interactiveResult, {\"persons\": persons,\n",
    "                                                  \"joint_pairs\": joint_pairs})\n",
    "\n",
    "display(hbox_res, i_res)"
   ]
  },
  {
   "cell_type": "code",
   "execution_count": 48,
   "metadata": {
    "ExecuteTime": {
     "end_time": "2019-07-14T00:44:05.927326Z",
     "start_time": "2019-07-14T00:44:02.493760Z"
    },
    "hidden": true,
    "scrolled": false
   },
   "outputs": [
    {
     "name": "stdout",
     "output_type": "stream",
     "text": [
      "Time Taken = 3.4008071422576904\n"
     ]
    }
   ],
   "source": [
    "video_name = video_dropdown.value\n",
    "image1, frame_width, frame_height = getFrame(video_name, frame_n.value)\n",
    "nn_output, _, _ = SingleFrameInference(image1)"
   ]
  },
  {
   "cell_type": "code",
   "execution_count": 46,
   "metadata": {
    "ExecuteTime": {
     "end_time": "2019-07-14T00:42:40.542460Z",
     "start_time": "2019-07-14T00:42:39.614529Z"
    },
    "hidden": true,
    "scrolled": true
   },
   "outputs": [
    {
     "data": {
      "application/vnd.jupyter.widget-view+json": {
       "model_id": "ee2d7b34ced148079b64afd8f41ad8c5",
       "version_major": 2,
       "version_minor": 0
      },
      "text/plain": [
       "VBox(children=(HBox(children=(Checkbox(value=False, description='Points', layout=Layout(align_items='flex-star…"
      ]
     },
     "metadata": {},
     "output_type": "display_data"
    },
    {
     "data": {
      "application/vnd.jupyter.widget-view+json": {
       "model_id": "8600bf1ef17c4662883b3a4910ebe3b0",
       "version_major": 2,
       "version_minor": 0
      },
      "text/plain": [
       "Output()"
      ]
     },
     "metadata": {},
     "output_type": "display_data"
    }
   ],
   "source": [
    "def getHeatmap(joint_n, threshold, alpha, binary):\n",
    "    VisualizeHeatmap(image=image1, output=output, j=joint_n, \n",
    "                      threshold=threshold, alpha=alpha, binary=binary)\n",
    "    \n",
    "joint_n = wg.IntText(value=0, description='Joint:',\n",
    "                     layout=wg.Layout(display='flex',flex_flow='line',align_items='flex-start',\n",
    "                                      justify_content='flex-start',width='18%'))\n",
    "thres = wg.FloatText(value=0.1, step=0.1, description='Threshold:',\n",
    "                     layout=wg.Layout(display='flex',flex_flow='line',align_items='flex-start',\n",
    "                                      justify_content='flex-start',width='18%'))\n",
    "alpha = wg.FloatText(value=0.6, step=0.1, description='Alpha:',\n",
    "                     layout=wg.Layout(display='flex',flex_flow='line',align_items='flex-start',\n",
    "                                      justify_content='flex-start',width='18%'))\n",
    "show_points = wg.Checkbox(value=False, description='Points',disabled=False,\n",
    "                     layout=wg.Layout(display='flex',flex_flow='line',align_items='flex-start',\n",
    "                                      justify_content='flex-start',width='18%'))\n",
    "show_heatmap = wg.Checkbox(value=False, description='Heatmap',disabled=False,\n",
    "                     layout=wg.Layout(display='flex',flex_flow='line',align_items='flex-start',\n",
    "                                      justify_content='flex-start',width='30%'))\n",
    "binary = wg.Checkbox(value=False, description='Binary',disabled=False,\n",
    "                     layout=wg.Layout(display='flex',flex_flow='line',align_items='flex-start',\n",
    "                                      justify_content='flex-start',width='18%'))\n",
    "i_heatmap = wg.interactive_output(getHeatmap,\n",
    "            {\"joint_n\": joint_n,\n",
    "            \"threshold\": thres,\n",
    "            \"alpha\": alpha,\n",
    "            \"binary\": binary})\n",
    "\n",
    "ht_hbox_0 = wg.HBox([show_points, show_heatmap],                     \n",
    "                    layout=wg.Layout(display='flex',flex_flow='line',\n",
    "                                     align_items='flex-start',justify_content='flex-start'))\n",
    "ht_hbox_1 = wg.HBox([joint_n, thres])\n",
    "ht_hbox_2 = wg.HBox([alpha, binary])\n",
    "ht_vbox_1 = wg.VBox([ht_hbox_0, ht_hbox_1, ht_hbox_2], \n",
    "                    layout=wg.Layout(border='solid 2px', display='flex'))\n",
    "display(ht_vbox_1, i_heatmap)"
   ]
  },
  {
   "cell_type": "code",
   "execution_count": 49,
   "metadata": {
    "ExecuteTime": {
     "end_time": "2019-07-14T00:45:15.842743Z",
     "start_time": "2019-07-14T00:45:15.835464Z"
    },
    "hidden": true
   },
   "outputs": [],
   "source": [
    "def getKeypointsList(output, frame_width, frame_height, threshold=0.1, print_list=False):\n",
    "    detected_keypoints = []\n",
    "    keypoints_list = np.zeros((0,3))\n",
    "    keypoint_id = 0\n",
    "    for part in range(n_points):\n",
    "        prob_map = output[0,part,:,:]\n",
    "        prob_map = cv2.resize(prob_map, (frame_width, frame_height))\n",
    "        keypoints = getKeypoints(prob_map, threshold)\n",
    "        if print_list:\n",
    "            print(\"Keypoints - {} : {}\".format(keypoints_mapping[part], keypoints))\n",
    "        keypoints_with_id = []\n",
    "        for i in range(len(keypoints)):\n",
    "            keypoints_with_id.append(keypoints[i] + (keypoint_id,))\n",
    "            keypoints_list = np.vstack([keypoints_list, keypoints[i]])\n",
    "            keypoint_id += 1\n",
    "\n",
    "        detected_keypoints.append(keypoints_with_id)\n",
    "    \n",
    "    return keypoints_list, detected_keypoints"
   ]
  },
  {
   "cell_type": "code",
   "execution_count": 50,
   "metadata": {
    "ExecuteTime": {
     "end_time": "2019-07-14T00:45:17.963340Z",
     "start_time": "2019-07-14T00:45:17.954152Z"
    },
    "hidden": true
   },
   "outputs": [],
   "source": [
    "# Find the Keypoints using Non Maximum Suppression on the Confidence Map\n",
    "def getKeypoints(prob_map, threshold=0.1):\n",
    "    \n",
    "    map_smooth = cv2.GaussianBlur(prob_map,(3,3),0,0)\n",
    "\n",
    "    map_mask = np.uint8(map_smooth>threshold)\n",
    "    keypoints = []\n",
    "    \n",
    "    #find the blobs\n",
    "    _, contours, _ = cv2.findContours(map_mask, cv2.RETR_TREE, cv2.CHAIN_APPROX_SIMPLE)\n",
    "    \n",
    "    #for each blob find the maxima\n",
    "    for cnt in contours:\n",
    "        blob_mask = np.zeros(map_mask.shape)\n",
    "        blob_mask = cv2.fillConvexPoly(blob_mask, cnt, 1)\n",
    "        masked_prob_map = map_smooth * blob_mask\n",
    "        _, max_val, _, max_loc = cv2.minMaxLoc(masked_prob_map)\n",
    "        keypoints.append(max_loc + (prob_map[max_loc[1], max_loc[0]],))\n",
    "\n",
    "    return keypoints"
   ]
  },
  {
   "cell_type": "code",
   "execution_count": 51,
   "metadata": {
    "ExecuteTime": {
     "end_time": "2019-07-14T00:45:54.940889Z",
     "start_time": "2019-07-14T00:45:54.899352Z"
    },
    "hidden": true
   },
   "outputs": [],
   "source": [
    "keypoints_list, detected_keypoints = getKeypointsList(nn_output, frame_width, frame_height, threshold=0.1, print_list=False)"
   ]
  },
  {
   "cell_type": "code",
   "execution_count": 54,
   "metadata": {
    "ExecuteTime": {
     "end_time": "2019-07-14T00:48:23.153001Z",
     "start_time": "2019-07-14T00:48:23.103984Z"
    },
    "hidden": true,
    "scrolled": true
   },
   "outputs": [
    {
     "ename": "IndexError",
     "evalue": "list index out of range",
     "output_type": "error",
     "traceback": [
      "\u001b[0;31m---------------------------------------------------------------------------\u001b[0m",
      "\u001b[0;31mIndexError\u001b[0m                                Traceback (most recent call last)",
      "\u001b[0;32m<ipython-input-54-7f2ce219a624>\u001b[0m in \u001b[0;36m<module>\u001b[0;34m\u001b[0m\n\u001b[0;32m----> 1\u001b[0;31m \u001b[0mvalid_pairs\u001b[0m\u001b[0;34m,\u001b[0m \u001b[0minvalid_pairs\u001b[0m \u001b[0;34m=\u001b[0m \u001b[0mgetValidPairs\u001b[0m\u001b[0;34m(\u001b[0m\u001b[0moutput\u001b[0m\u001b[0;34m,\u001b[0m \u001b[0mdetected_keypoints\u001b[0m\u001b[0;34m)\u001b[0m\u001b[0;34m\u001b[0m\u001b[0;34m\u001b[0m\u001b[0m\n\u001b[0m\u001b[1;32m      2\u001b[0m \u001b[0mpersonwise_keypoints\u001b[0m \u001b[0;34m=\u001b[0m \u001b[0mgetPersonwiseKeypoints\u001b[0m\u001b[0;34m(\u001b[0m\u001b[0mvalid_pairs\u001b[0m\u001b[0;34m,\u001b[0m \u001b[0minvalid_pairs\u001b[0m\u001b[0;34m)\u001b[0m\u001b[0;34m\u001b[0m\u001b[0;34m\u001b[0m\u001b[0m\n",
      "\u001b[0;32m<ipython-input-17-a25161fecba5>\u001b[0m in \u001b[0;36mgetValidPairs\u001b[0;34m(output, detected_keypoints, n_interp_samples, paf_score_th, conf_th, print_list)\u001b[0m\n\u001b[1;32m     12\u001b[0m \u001b[0;34m\u001b[0m\u001b[0m\n\u001b[1;32m     13\u001b[0m         \u001b[0;31m# Find the keypoints for the first and second limb\u001b[0m\u001b[0;34m\u001b[0m\u001b[0;34m\u001b[0m\u001b[0;34m\u001b[0m\u001b[0m\n\u001b[0;32m---> 14\u001b[0;31m         \u001b[0mcandA\u001b[0m \u001b[0;34m=\u001b[0m \u001b[0mdetected_keypoints\u001b[0m\u001b[0;34m[\u001b[0m\u001b[0mpose_pairs\u001b[0m\u001b[0;34m[\u001b[0m\u001b[0mk\u001b[0m\u001b[0;34m]\u001b[0m\u001b[0;34m[\u001b[0m\u001b[0;36m0\u001b[0m\u001b[0;34m]\u001b[0m\u001b[0;34m]\u001b[0m\u001b[0;34m\u001b[0m\u001b[0;34m\u001b[0m\u001b[0m\n\u001b[0m\u001b[1;32m     15\u001b[0m         \u001b[0mcandB\u001b[0m \u001b[0;34m=\u001b[0m \u001b[0mdetected_keypoints\u001b[0m\u001b[0;34m[\u001b[0m\u001b[0mpose_pairs\u001b[0m\u001b[0;34m[\u001b[0m\u001b[0mk\u001b[0m\u001b[0;34m]\u001b[0m\u001b[0;34m[\u001b[0m\u001b[0;36m1\u001b[0m\u001b[0;34m]\u001b[0m\u001b[0;34m]\u001b[0m\u001b[0;34m\u001b[0m\u001b[0;34m\u001b[0m\u001b[0m\n\u001b[1;32m     16\u001b[0m         \u001b[0mnA\u001b[0m \u001b[0;34m=\u001b[0m \u001b[0mlen\u001b[0m\u001b[0;34m(\u001b[0m\u001b[0mcandA\u001b[0m\u001b[0;34m)\u001b[0m\u001b[0;34m\u001b[0m\u001b[0;34m\u001b[0m\u001b[0m\n",
      "\u001b[0;31mIndexError\u001b[0m: list index out of range"
     ]
    }
   ],
   "source": [
    "valid_pairs, invalid_pairs = getValidPairs(output, detected_keypoints)\n",
    "personwise_keypoints = getPersonwiseKeypoints(valid_pairs, invalid_pairs)"
   ]
  },
  {
   "cell_type": "markdown",
   "metadata": {},
   "source": [
    "## Caffe"
   ]
  },
  {
   "cell_type": "code",
   "execution_count": null,
   "metadata": {},
   "outputs": [],
   "source": [
    "proto_file = \"/home/victormacedo10/TCC_Biomec/Models/Openpose/coco/pose_deploy_linevec_5_stages.prototxt\"\n",
    "weights_file = \"/home/victormacedo10/TCC_Biomec/Models/Openpose/coco/pose_iter_440000.caffemodel\""
   ]
  },
  {
   "cell_type": "code",
   "execution_count": 34,
   "metadata": {
    "ExecuteTime": {
     "end_time": "2019-07-14T13:09:24.721241Z",
     "start_time": "2019-07-14T13:09:24.716189Z"
    }
   },
   "outputs": [],
   "source": [
    "proto_file = \"../Models/Openpose/coco/pose_deploy_linevec_5_stages.prototxt\"\n",
    "weights_file = \"../Models/Openpose/coco/pose_iter_440000.caffemodel\""
   ]
  },
  {
   "cell_type": "code",
   "execution_count": 35,
   "metadata": {
    "ExecuteTime": {
     "end_time": "2019-07-14T13:09:25.491414Z",
     "start_time": "2019-07-14T13:09:25.475731Z"
    }
   },
   "outputs": [
    {
     "ename": "error",
     "evalue": "OpenCV(3.4.3) /home/victormacedo10/opencv-3.4.3/modules/dnn/src/caffe/caffe_io.cpp:1151: error: (-2:Unspecified error) FAILED: ReadProtoFromTextFile(param_file, param). Failed to parse NetParameter file: ../Models/Openpose/coco/pose_deploy_linevec_5_stages.prototxt in function 'ReadNetParamsFromTextFileOrDie'\n",
     "output_type": "error",
     "traceback": [
      "\u001b[0;31m---------------------------------------------------------------------------\u001b[0m",
      "\u001b[0;31merror\u001b[0m                                     Traceback (most recent call last)",
      "\u001b[0;32m<ipython-input-35-6047774038b0>\u001b[0m in \u001b[0;36m<module>\u001b[0;34m\u001b[0m\n\u001b[0;32m----> 1\u001b[0;31m \u001b[0mnet\u001b[0m \u001b[0;34m=\u001b[0m \u001b[0mcv2\u001b[0m\u001b[0;34m.\u001b[0m\u001b[0mdnn\u001b[0m\u001b[0;34m.\u001b[0m\u001b[0mreadNetFromCaffe\u001b[0m\u001b[0;34m(\u001b[0m\u001b[0mproto_file\u001b[0m\u001b[0;34m,\u001b[0m \u001b[0mweights_file\u001b[0m\u001b[0;34m)\u001b[0m\u001b[0;34m\u001b[0m\u001b[0;34m\u001b[0m\u001b[0m\n\u001b[0m\u001b[1;32m      2\u001b[0m \u001b[0mimage\u001b[0m\u001b[0;34m,\u001b[0m \u001b[0m_\u001b[0m\u001b[0;34m,\u001b[0m \u001b[0m_\u001b[0m \u001b[0;34m=\u001b[0m \u001b[0mgetFrame\u001b[0m\u001b[0;34m(\u001b[0m\u001b[0;34m'Victor.mp4'\u001b[0m\u001b[0;34m,\u001b[0m \u001b[0;36m0\u001b[0m\u001b[0;34m)\u001b[0m\u001b[0;34m\u001b[0m\u001b[0;34m\u001b[0m\u001b[0m\n\u001b[1;32m      3\u001b[0m \u001b[0min_height\u001b[0m \u001b[0;34m=\u001b[0m \u001b[0;36m368\u001b[0m\u001b[0;34m\u001b[0m\u001b[0;34m\u001b[0m\u001b[0m\n\u001b[1;32m      4\u001b[0m \u001b[0min_width\u001b[0m \u001b[0;34m=\u001b[0m \u001b[0;36m368\u001b[0m\u001b[0;34m\u001b[0m\u001b[0;34m\u001b[0m\u001b[0m\n\u001b[1;32m      5\u001b[0m inp_blob = cv2.dnn.blobFromImage(image, 1.0 / 255, (in_width, in_height),\n",
      "\u001b[0;31merror\u001b[0m: OpenCV(3.4.3) /home/victormacedo10/opencv-3.4.3/modules/dnn/src/caffe/caffe_io.cpp:1151: error: (-2:Unspecified error) FAILED: ReadProtoFromTextFile(param_file, param). Failed to parse NetParameter file: ../Models/Openpose/coco/pose_deploy_linevec_5_stages.prototxt in function 'ReadNetParamsFromTextFileOrDie'\n"
     ]
    }
   ],
   "source": [
    "net = cv2.dnn.readNetFromCaffe(proto_file, weights_file)\n",
    "image, _, _ = getFrame('Victor.mp4', 0)\n",
    "in_height = 368\n",
    "in_width = 368\n",
    "inp_blob = cv2.dnn.blobFromImage(image, 1.0 / 255, (in_width, in_height),\n",
    "                          (0, 0, 0), swapRB=False, crop=False)\n",
    "net.setInput(inp_blob)\n",
    "#net_output = net.forward()"
   ]
  },
  {
   "cell_type": "code",
   "execution_count": 30,
   "metadata": {
    "ExecuteTime": {
     "end_time": "2019-07-14T13:05:42.527655Z",
     "start_time": "2019-07-14T13:05:37.166904Z"
    }
   },
   "outputs": [],
   "source": [
    "personwise_keypoints, keypoints_list = inferenceOP('Victor.mp4', 0)"
   ]
  },
  {
   "cell_type": "code",
   "execution_count": 25,
   "metadata": {
    "ExecuteTime": {
     "end_time": "2019-07-14T13:00:54.411420Z",
     "start_time": "2019-07-14T13:00:54.144575Z"
    },
    "hide_input": true,
    "scrolled": false
   },
   "outputs": [
    {
     "data": {
      "application/vnd.jupyter.widget-view+json": {
       "model_id": "b39e7747588344fca4869d377790feec",
       "version_major": 2,
       "version_minor": 0
      },
      "text/plain": [
       "HBox(children=(SelectMultiple(description='Persons', index=(0, 1), options=(0, 1), rows=2, value=(0, 1)), Sele…"
      ]
     },
     "metadata": {},
     "output_type": "display_data"
    },
    {
     "data": {
      "application/vnd.jupyter.widget-view+json": {
       "model_id": "52fd866c505e435cb1eea5e4a23b2f23",
       "version_major": 2,
       "version_minor": 0
      },
      "text/plain": [
       "Output()"
      ]
     },
     "metadata": {},
     "output_type": "display_data"
    }
   ],
   "source": [
    "def interactiveResult(persons, joint_pairs):\n",
    "    visualizeResult(image, personwise_keypoints, keypoints_list, persons, joint_pairs)\n",
    "\n",
    "persons = wg.SelectMultiple(options=[i for i in range(len(personwise_keypoints))],\n",
    "                            value=[i for i in range(len(personwise_keypoints))],\n",
    "                            rows=len(personwise_keypoints),\n",
    "                            description='Persons',\n",
    "                            disabled=False)\n",
    "\n",
    "joint_pairs = wg.SelectMultiple(options=[i for i in range(len(pose_pairs))],\n",
    "                                value=[i for i in range(len(pose_pairs)-1)],\n",
    "                                rows=5,\n",
    "                                description='Pose Pairs',\n",
    "                                disabled=False)\n",
    "\n",
    "hbox_res = wg.HBox([persons, joint_pairs])\n",
    "\n",
    "i_res = wg.interactive_output(interactiveResult, {\"persons\": persons,\n",
    "                                                  \"joint_pairs\": joint_pairs})\n",
    "\n",
    "display(hbox_res, i_res)"
   ]
  },
  {
   "cell_type": "code",
   "execution_count": 31,
   "metadata": {
    "ExecuteTime": {
     "end_time": "2019-07-14T13:05:54.831461Z",
     "start_time": "2019-07-14T13:05:54.522566Z"
    },
    "hide_input": true
   },
   "outputs": [
    {
     "data": {
      "application/vnd.jupyter.widget-view+json": {
       "model_id": "1af215c71da9478a8e446ba8189fc474",
       "version_major": 2,
       "version_minor": 0
      },
      "text/plain": [
       "HBox(children=(SelectMultiple(description='Persons', index=(0, 1), options=(0, 1), rows=2, value=(0, 1)), Sele…"
      ]
     },
     "metadata": {},
     "output_type": "display_data"
    },
    {
     "data": {
      "application/vnd.jupyter.widget-view+json": {
       "model_id": "310e55471be34437b33abe8208747d6f",
       "version_major": 2,
       "version_minor": 0
      },
      "text/plain": [
       "Output()"
      ]
     },
     "metadata": {},
     "output_type": "display_data"
    }
   ],
   "source": [
    "def interactiveResult(persons, joint_pairs):\n",
    "    visualizeResult(image, personwise_keypoints, keypoints_list, persons, joint_pairs)\n",
    "\n",
    "persons = wg.SelectMultiple(options=[i for i in range(len(personwise_keypoints))],\n",
    "                            value=[i for i in range(len(personwise_keypoints))],\n",
    "                            rows=len(personwise_keypoints),\n",
    "                            description='Persons',\n",
    "                            disabled=False)\n",
    "\n",
    "joint_pairs = wg.SelectMultiple(options=[i for i in range(len(pose_pairs))],\n",
    "                                value=[i for i in range(len(pose_pairs)-1)],\n",
    "                                rows=5,\n",
    "                                description='Pose Pairs',\n",
    "                                disabled=False)\n",
    "\n",
    "hbox_res = wg.HBox([persons, joint_pairs])\n",
    "\n",
    "i_res = wg.interactive_output(interactiveResult, {\"persons\": persons,\n",
    "                                                  \"joint_pairs\": joint_pairs})\n",
    "\n",
    "display(hbox_res, i_res)"
   ]
  },
  {
   "cell_type": "code",
   "execution_count": null,
   "metadata": {},
   "outputs": [],
   "source": []
  }
 ],
 "metadata": {
  "kernelspec": {
   "display_name": "Python 3",
   "language": "python",
   "name": "python3"
  },
  "language_info": {
   "codemirror_mode": {
    "name": "ipython",
    "version": 3
   },
   "file_extension": ".py",
   "mimetype": "text/x-python",
   "name": "python",
   "nbconvert_exporter": "python",
   "pygments_lexer": "ipython3",
   "version": "3.6.7"
  },
  "latex_envs": {
   "LaTeX_envs_menu_present": true,
   "autoclose": false,
   "autocomplete": true,
   "bibliofile": "biblio.bib",
   "cite_by": "apalike",
   "current_citInitial": 1,
   "eqLabelWithNumbers": true,
   "eqNumInitial": 1,
   "hotkeys": {
    "equation": "Ctrl-E",
    "itemize": "Ctrl-I"
   },
   "labels_anchors": false,
   "latex_user_defs": false,
   "report_style_numbering": false,
   "user_envs_cfg": false
  },
  "toc": {
   "base_numbering": 1,
   "nav_menu": {},
   "number_sections": true,
   "sideBar": true,
   "skip_h1_title": false,
   "title_cell": "Table of Contents",
   "title_sidebar": "Contents",
   "toc_cell": false,
   "toc_position": {
    "height": "calc(100% - 180px)",
    "left": "10px",
    "top": "150px",
    "width": "270.188px"
   },
   "toc_section_display": true,
   "toc_window_display": true
  },
  "varInspector": {
   "cols": {
    "lenName": 16,
    "lenType": 16,
    "lenVar": 40
   },
   "kernels_config": {
    "python": {
     "delete_cmd_postfix": "",
     "delete_cmd_prefix": "del ",
     "library": "var_list.py",
     "varRefreshCmd": "print(var_dic_list())"
    },
    "r": {
     "delete_cmd_postfix": ") ",
     "delete_cmd_prefix": "rm(",
     "library": "var_list.r",
     "varRefreshCmd": "cat(var_dic_list()) "
    }
   },
   "types_to_exclude": [
    "module",
    "function",
    "builtin_function_or_method",
    "instance",
    "_Feature"
   ],
   "window_display": false
  }
 },
 "nbformat": 4,
 "nbformat_minor": 2
}
