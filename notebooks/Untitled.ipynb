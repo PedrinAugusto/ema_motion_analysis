{
 "cells": [
  {
   "cell_type": "code",
   "execution_count": 1,
   "metadata": {},
   "outputs": [],
   "source": [
    "import os\n",
    "import sys\n",
    "import cv2\n",
    "import time\n",
    "import json\n",
    "import numpy as np\n",
    "import matplotlib.pyplot as plt\n",
    "from sys import platform\n",
    "import argparse\n",
    "sys.path.append(\"../src\")\n",
    "from support import saveFileDialog, readFileDialog, saveDATAtoFile\n",
    "from preprocessing import organizeBiggestPerson, selectJoints, fillwInterp\n",
    "from visualizations import poseDATAtoFrame, rectAreatoFrame, showFrame\n",
    "from kinematics import inverseKinematicsRowing, getRowingAngles\n",
    "sys.path.append(\"../postprocessing\")\n",
    "from kalman_processing import processing_function"
   ]
  },
  {
   "cell_type": "code",
   "execution_count": 2,
   "metadata": {},
   "outputs": [],
   "source": [
    "def readAllFramesDATA(file_path):\n",
    "    keypoints_vec = []\n",
    "    angles_vec = []\n",
    "    with open(file_path, 'r') as f:\n",
    "        for i, line in enumerate(f):\n",
    "            if i==0:\n",
    "                metadata = json.loads(line)\n",
    "            else:\n",
    "                data = json.loads(line)\n",
    "                keypoints_vec.append(data[\"keypoints\"])\n",
    "                try:\n",
    "                    angles_vec.append(data[\"angles\"])\n",
    "                except:\n",
    "                    angles = []\n",
    "    keypoints_vec = np.array(keypoints_vec).astype(float)\n",
    "    angles_vec = np.array(angles_vec).astype(float)\n",
    "    return metadata, keypoints_vec, angles_vec"
   ]
  },
  {
   "cell_type": "code",
   "execution_count": 3,
   "metadata": {},
   "outputs": [],
   "source": [
    "data_path = readFileDialog(title=\"Open data file\")"
   ]
  },
  {
   "cell_type": "code",
   "execution_count": 4,
   "metadata": {},
   "outputs": [],
   "source": [
    "file_metadata, keypoints_vec, angles_vec = readAllFramesDATA(data_path)"
   ]
  },
  {
   "cell_type": "code",
   "execution_count": 5,
   "metadata": {},
   "outputs": [],
   "source": [
    "if len(angles_vec) == 0:\n",
    "    angles_vec = getRowingAngles(keypoints_vec)"
   ]
  }
 ],
 "metadata": {
  "kernelspec": {
   "display_name": "Python 3",
   "language": "python",
   "name": "python3"
  },
  "language_info": {
   "codemirror_mode": {
    "name": "ipython",
    "version": 3
   },
   "file_extension": ".py",
   "mimetype": "text/x-python",
   "name": "python",
   "nbconvert_exporter": "python",
   "pygments_lexer": "ipython3",
   "version": "3.8.2"
  }
 },
 "nbformat": 4,
 "nbformat_minor": 4
}
