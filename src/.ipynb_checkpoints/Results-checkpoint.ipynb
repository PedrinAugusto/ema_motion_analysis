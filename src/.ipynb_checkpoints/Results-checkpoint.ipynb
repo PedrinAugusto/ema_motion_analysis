{
 "cells": [
  {
   "cell_type": "markdown",
   "metadata": {
    "heading_collapsed": true
   },
   "source": [
    "### Bibliotecas"
   ]
  },
  {
   "cell_type": "code",
   "execution_count": 3,
   "metadata": {
    "ExecuteTime": {
     "end_time": "2019-04-04T13:05:55.767117Z",
     "start_time": "2019-04-04T13:05:55.736720Z"
    },
    "hidden": true,
    "hide_input": false,
    "init_cell": true
   },
   "outputs": [],
   "source": [
    "import cv2\n",
    "import time\n",
    "import numpy as np\n",
    "import matplotlib.pyplot as plt\n",
    "%matplotlib inline\n",
    "import matplotlib\n",
    "from IPython.display import Markdown as md\n",
    "import os\n",
    "import ipywidgets as wg\n",
    "from IPython.display import display\n",
    "from matplotlib import cm\n",
    "import math\n",
    "import json\n",
    "\n",
    "from random import randint\n",
    "from IPython.display import HTML\n",
    "\n",
    "from functions import readFrameJSON, getFrame, visualizeResult\n",
    "\n",
    "proto_file = \"../Models/Openpose/coco/pose_deploy_linevec.prototxt\"\n",
    "weights_file = \"../Models/Openpose/coco/pose_iter_440000.caffemodel\"\n",
    "videos_dir = \"../Videos/\"\n",
    "data_dir = \"../Data/\"\n",
    "\n",
    "n_points = 18\n",
    "# COCO Output Format\n",
    "keypoints_mapping = np.array(['Nose', 'Neck', 'R-Sho', 'R-Elb', 'R-Wr', 'L-Sho', \n",
    "                    'L-Elb', 'L-Wr', 'R-Hip', 'R-Knee', 'R-Ank', 'L-Hip', \n",
    "                    'L-Knee', 'L-Ank', 'R-Eye', 'L-Eye', 'R-Ear', 'L-Ear'])\n",
    "\n",
    "pose_pairs = np.array([[1,2], [1,5], [2,3], [3,4], [5,6], [6,7],\n",
    "              [1,8], [8,9], [9,10], [1,11], [11,12], [12,13],\n",
    "              [1,0], [0,14], [14,16], [0,15], [15,17],\n",
    "              [2,17], [5,16]])\n",
    "\n",
    "# index of pafs correspoding to the pose_pairs\n",
    "# e.g for POSE_PAIR(1,2), the PAFs are located at indices (31,32) of output, Similarly, (1,5) -> (39,40) and so on.\n",
    "map_idx = np.array([[31,32], [39,40], [33,34], [35,36], [41,42], [43,44], \n",
    "          [19,20], [21,22], [23,24], [25,26], [27,28], [29,30], \n",
    "          [47,48], [49,50], [53,54], [51,52], [55,56], \n",
    "          [37,38], [45,46]])\n",
    "\n",
    "colors = [ [0,100,255], [0,100,255], [0,255,255], [0,100,255], [0,255,255], [0,100,255],\n",
    "         [0,255,0], [255,200,100], [255,0,255], [0,255,0], [255,200,100], [255,0,255],\n",
    "         [0,0,255], [255,0,0], [200,200,0], [255,0,0], [200,200,0], [0,0,0]]"
   ]
  },
  {
   "cell_type": "markdown",
   "metadata": {},
   "source": [
    "### Interface"
   ]
  },
  {
   "cell_type": "code",
   "execution_count": 14,
   "metadata": {
    "ExecuteTime": {
     "end_time": "2019-04-04T13:30:15.097670Z",
     "start_time": "2019-04-04T13:30:15.075334Z"
    },
    "hide_input": false,
    "scrolled": false
   },
   "outputs": [],
   "source": [
    "def getVideos(input_video):\n",
    "    video_path = videos_dir + input_video\n",
    "    display(HTML(\"\"\"<video width=\"840\" height=\"460\" controls=\"\">\n",
    "                <source src=\"{0}\"></video>\"\"\".format(video_path)))\n",
    "\n",
    "def interactiveResult(video_name, file_name, persons, joint_pose, frame_n=0):\n",
    "    video_name = (video_name).split(sep='.')[0]\n",
    "    file_dir = data_dir + video_name + '/'\n",
    "    if not os.path.exists(file_dir):\n",
    "        os.makedirs(file_dir)\n",
    "    file_path = file_dir + file_name\n",
    "    metadata, data = readFrameJSON(file_path, frame_n=frame_n)\n",
    "    personwise_keypoints = np.array(data[\"personwise_keypoints\"]).astype(float)\n",
    "    keypoints_list = np.array(data[\"keypoints_list\"]).astype(float)\n",
    "    if persons == 'Main':\n",
    "        p = [0]\n",
    "    elif persons == 'All':\n",
    "        p = [-1]\n",
    "    else:\n",
    "        person_max = 0\n",
    "        prob_max = 0\n",
    "        for i in range(len(personwise_keypoints)):\n",
    "            if(personwise_keypoints[i][18] > prob_max):\n",
    "                person_max = i\n",
    "                prob_max = personwise_keypoints[i][18]\n",
    "        p = [person_max]\n",
    "    \n",
    "    if joint_pose == 'Sagittal':\n",
    "        joint_pairs = [1,5,9,10,11,12,15,16,4]\n",
    "    else:\n",
    "        joint_pairs = [-1]\n",
    "    \n",
    "    video_name_ext = [filename for filename in os.listdir(videos_dir) if filename.startswith(metadata[\"video_name\"])]\n",
    "    image, _, _ = getFrame(video_name_ext[0], frame_n)\n",
    "    visualizeResult(image, personwise_keypoints, keypoints_list, p, joint_pairs)\n",
    "\n",
    "def interactiveInterface():\n",
    "    videos = os.listdir(videos_dir)\n",
    "    input_video = wg.Dropdown( options=videos,\n",
    "                            value=\"Remo_Lite_480p.mp4\",\n",
    "                            description='Video:',\n",
    "                            disabled=False)\n",
    "\n",
    "    y = wg.interactive_output(getVideos, {\"input_video\":input_video})\n",
    "    vbox_video = wg.VBox([input_video, y])     \n",
    "\n",
    "    persons = wg.RadioButtons(options=['Main', 'All', 'Automatic'],\n",
    "                                value='Main',\n",
    "                                rows=2,\n",
    "                                description='Persons',\n",
    "                                disabled=False)\n",
    "\n",
    "    joint_pose = wg.RadioButtons(options=['Sagittal', 'Whole Body'],\n",
    "                                    value='Sagittal',\n",
    "                                    rows=2,\n",
    "                                    description='Pose',\n",
    "                                    disabled=False)\n",
    "\n",
    "    video_path = videos_dir + input_video.value\n",
    "    video_name = (input_video.value).split(sep='.')[0]\n",
    "\n",
    "    file_dir = data_dir + video_name + '/'\n",
    "    if not os.path.exists(file_dir):\n",
    "        os.makedirs(file_dir)\n",
    "\n",
    "    files_list = os.listdir(file_dir)\n",
    "    json_list = []\n",
    "    for names in files_list:\n",
    "        if names.endswith(\".json\"):\n",
    "            json_list.append(names)\n",
    "\n",
    "    json_dropdown = wg.Dropdown(options=json_list,\n",
    "                            value=json_list[0],\n",
    "                            description='File:',\n",
    "                            disabled=False)\n",
    "\n",
    "    frame_n= wg.IntText(value=0,description='Frame:')\n",
    "\n",
    "    hbox = wg.HBox([json_dropdown, frame_n])\n",
    "\n",
    "    vbox_res = wg.VBox([persons, joint_pose])\n",
    "\n",
    "    i_res = wg.interactive_output(interactiveResult, {\"video_name\": input_video,\n",
    "                                                      \"file_name\": json_dropdown,\n",
    "                                                      \"persons\": persons,\n",
    "                                                      \"joint_pose\": joint_pose,\n",
    "                                                      \"frame_n\": frame_n})\n",
    "\n",
    "    vbox_vid = wg.VBox([hbox, i_res])\n",
    "\n",
    "    hbox_res = wg.HBox([vbox_vid, vbox_res])\n",
    "\n",
    "    tabs = ['Videos', 'Data']\n",
    "    children = []\n",
    "    children.append(vbox_video)\n",
    "    children.append(hbox_res)\n",
    "    tab = wg.Tab()\n",
    "    tab.children = children\n",
    "    for i in range(len(children)):\n",
    "        tab.set_title(i, tabs[i])\n",
    "    display(tab)"
   ]
  },
  {
   "cell_type": "code",
   "execution_count": 15,
   "metadata": {
    "ExecuteTime": {
     "end_time": "2019-04-04T13:30:19.204206Z",
     "start_time": "2019-04-04T13:30:18.005772Z"
    },
    "scrolled": false
   },
   "outputs": [
    {
     "data": {
      "application/vnd.jupyter.widget-view+json": {
       "model_id": "e1d9d249edd440eca6ccaceafa923ea9",
       "version_major": 2,
       "version_minor": 0
      },
      "text/plain": [
       "Tab(children=(VBox(children=(Dropdown(description='Video:', options=('Remo_Lite_480p.mp4', 'Remo.MOV'), value=…"
      ]
     },
     "metadata": {},
     "output_type": "display_data"
    }
   ],
   "source": [
    "interactiveInterface()"
   ]
  },
  {
   "cell_type": "code",
   "execution_count": null,
   "metadata": {},
   "outputs": [],
   "source": []
  }
 ],
 "metadata": {
  "kernelspec": {
   "display_name": "Python 3",
   "language": "python",
   "name": "python3"
  },
  "language_info": {
   "codemirror_mode": {
    "name": "ipython",
    "version": 3
   },
   "file_extension": ".py",
   "mimetype": "text/x-python",
   "name": "python",
   "nbconvert_exporter": "python",
   "pygments_lexer": "ipython3",
   "version": "3.6.7"
  },
  "latex_envs": {
   "LaTeX_envs_menu_present": true,
   "autoclose": false,
   "autocomplete": true,
   "bibliofile": "biblio.bib",
   "cite_by": "apalike",
   "current_citInitial": 1,
   "eqLabelWithNumbers": true,
   "eqNumInitial": 1,
   "hotkeys": {
    "equation": "Ctrl-E",
    "itemize": "Ctrl-I"
   },
   "labels_anchors": false,
   "latex_user_defs": false,
   "report_style_numbering": false,
   "user_envs_cfg": false
  },
  "toc": {
   "base_numbering": 1,
   "nav_menu": {},
   "number_sections": true,
   "sideBar": true,
   "skip_h1_title": false,
   "title_cell": "Table of Contents",
   "title_sidebar": "Contents",
   "toc_cell": false,
   "toc_position": {
    "height": "calc(100% - 180px)",
    "left": "10px",
    "top": "150px",
    "width": "273.188px"
   },
   "toc_section_display": true,
   "toc_window_display": false
  },
  "varInspector": {
   "cols": {
    "lenName": 16,
    "lenType": 16,
    "lenVar": 40
   },
   "kernels_config": {
    "python": {
     "delete_cmd_postfix": "",
     "delete_cmd_prefix": "del ",
     "library": "var_list.py",
     "varRefreshCmd": "print(var_dic_list())"
    },
    "r": {
     "delete_cmd_postfix": ") ",
     "delete_cmd_prefix": "rm(",
     "library": "var_list.r",
     "varRefreshCmd": "cat(var_dic_list()) "
    }
   },
   "types_to_exclude": [
    "module",
    "function",
    "builtin_function_or_method",
    "instance",
    "_Feature"
   ],
   "window_display": false
  }
 },
 "nbformat": 4,
 "nbformat_minor": 2
}
