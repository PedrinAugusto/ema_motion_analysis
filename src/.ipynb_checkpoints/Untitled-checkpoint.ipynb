{
 "cells": [
  {
   "cell_type": "code",
   "execution_count": 26,
   "metadata": {
    "ExecuteTime": {
     "end_time": "2019-03-25T13:34:05.299178Z",
     "start_time": "2019-03-25T13:34:05.290392Z"
    }
   },
   "outputs": [],
   "source": [
    "import json"
   ]
  },
  {
   "cell_type": "code",
   "execution_count": 29,
   "metadata": {},
   "outputs": [],
   "source": [
    "data = {}  \n",
    "data['people'] = []  \n",
    "data['people'].append({  \n",
    "    'name': 'Scott',\n",
    "    'website': 'stackabuse.com',\n",
    "    'from': 'Nebraska'\n",
    "})\n",
    "data['people'].append({  \n",
    "    'name': 'Larry',\n",
    "    'website': 'google.com',\n",
    "    'from': 'Michigan1'\n",
    "})\n",
    "data['people'].append({  \n",
    "    'name': 'Tim',\n",
    "    'website': 'apple.com',\n",
    "    'from': 'Alabama'\n",
    "})\n",
    "\n",
    "data_dir = \"../Data/\"\n",
    "data_name = \"teste.json\"\n",
    "data_path = data_dir + data_name\n",
    "with open(data_path, 'w') as outfile:  \n",
    "    json.dump(data, outfile, indent=4)"
   ]
  },
  {
   "cell_type": "code",
   "execution_count": 28,
   "metadata": {},
   "outputs": [],
   "source": [
    "data1 = {}  \n",
    "data1['person'] = []  \n",
    "data1['person'].append({  \n",
    "    'nome': 'Victor',\n",
    "    'site': 'vic.com',\n",
    "    'onde': 'Brasilia'\n",
    "})\n",
    "\n",
    "data_dir = \"../Data/\"\n",
    "data_name = \"teste.json\"\n",
    "data_path = data_dir + data_name\n",
    "with open(data_path, 'a+') as outfile:  \n",
    "    json.dump(data1, outfile)"
   ]
  },
  {
   "cell_type": "code",
   "execution_count": 9,
   "metadata": {},
   "outputs": [],
   "source": [
    "import ijson"
   ]
  },
  {
   "cell_type": "code",
   "execution_count": 15,
   "metadata": {},
   "outputs": [
    {
     "name": "stdout",
     "output_type": "stream",
     "text": [
      "prefix=, event=start_map, value=None\n",
      "prefix=, event=map_key, value=people\n",
      "prefix=people, event=start_array, value=None\n",
      "prefix=people.item, event=start_map, value=None\n",
      "prefix=people.item, event=map_key, value=name\n",
      "prefix=people.item.name, event=string, value=Scott\n",
      "prefix=people.item, event=map_key, value=website\n",
      "prefix=people.item.website, event=string, value=stackabuse.com\n",
      "prefix=people.item, event=map_key, value=from\n",
      "prefix=people.item.from, event=string, value=Nebraska\n",
      "prefix=people.item, event=end_map, value=None\n",
      "prefix=people.item, event=start_map, value=None\n",
      "prefix=people.item, event=map_key, value=name\n",
      "prefix=people.item.name, event=string, value=Larry\n",
      "prefix=people.item, event=map_key, value=website\n",
      "prefix=people.item.website, event=string, value=google.com\n",
      "prefix=people.item, event=map_key, value=from\n",
      "prefix=people.item.from, event=string, value=Michigan1\n",
      "prefix=people.item, event=end_map, value=None\n",
      "prefix=people.item, event=start_map, value=None\n",
      "prefix=people.item, event=map_key, value=name\n",
      "prefix=people.item.name, event=string, value=Tim\n",
      "prefix=people.item, event=map_key, value=website\n",
      "prefix=people.item.website, event=string, value=apple.com\n",
      "prefix=people.item, event=map_key, value=from\n",
      "prefix=people.item.from, event=string, value=Alabama\n",
      "prefix=people.item, event=end_map, value=None\n",
      "prefix=people, event=end_array, value=None\n",
      "prefix=, event=end_map, value=None\n"
     ]
    }
   ],
   "source": [
    "with open(data_path, 'rb') as input_file:\n",
    "    # load json iteratively\n",
    "    parser = ijson.parse(input_file)\n",
    "    for prefix, event, value in parser:\n",
    "        print('prefix={}, event={}, value={}'.format(prefix, event, value))"
   ]
  },
  {
   "cell_type": "code",
   "execution_count": 24,
   "metadata": {},
   "outputs": [],
   "source": [
    "with open(data_path, 'rb') as input_file:\n",
    "    # load json iteratively\n",
    "    sites = ijson.items(input_file, 'people.item.website')\n",
    "    websites = list(sites)"
   ]
  }
 ],
 "metadata": {
  "kernelspec": {
   "display_name": "Python 3",
   "language": "python",
   "name": "python3"
  },
  "language_info": {
   "codemirror_mode": {
    "name": "ipython",
    "version": 3
   },
   "file_extension": ".py",
   "mimetype": "text/x-python",
   "name": "python",
   "nbconvert_exporter": "python",
   "pygments_lexer": "ipython3",
   "version": "3.6.7"
  },
  "latex_envs": {
   "LaTeX_envs_menu_present": true,
   "autoclose": false,
   "autocomplete": true,
   "bibliofile": "biblio.bib",
   "cite_by": "apalike",
   "current_citInitial": 1,
   "eqLabelWithNumbers": true,
   "eqNumInitial": 1,
   "hotkeys": {
    "equation": "Ctrl-E",
    "itemize": "Ctrl-I"
   },
   "labels_anchors": false,
   "latex_user_defs": false,
   "report_style_numbering": false,
   "user_envs_cfg": false
  },
  "toc": {
   "base_numbering": 1,
   "nav_menu": {},
   "number_sections": true,
   "sideBar": true,
   "skip_h1_title": false,
   "title_cell": "Table of Contents",
   "title_sidebar": "Contents",
   "toc_cell": false,
   "toc_position": {},
   "toc_section_display": true,
   "toc_window_display": false
  },
  "varInspector": {
   "cols": {
    "lenName": 16,
    "lenType": 16,
    "lenVar": 40
   },
   "kernels_config": {
    "python": {
     "delete_cmd_postfix": "",
     "delete_cmd_prefix": "del ",
     "library": "var_list.py",
     "varRefreshCmd": "print(var_dic_list())"
    },
    "r": {
     "delete_cmd_postfix": ") ",
     "delete_cmd_prefix": "rm(",
     "library": "var_list.r",
     "varRefreshCmd": "cat(var_dic_list()) "
    }
   },
   "types_to_exclude": [
    "module",
    "function",
    "builtin_function_or_method",
    "instance",
    "_Feature"
   ],
   "window_display": false
  }
 },
 "nbformat": 4,
 "nbformat_minor": 2
}
